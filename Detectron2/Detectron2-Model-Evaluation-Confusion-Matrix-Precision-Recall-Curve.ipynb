{
 "cells": [
  {
   "cell_type": "markdown",
   "id": "e8319987",
   "metadata": {},
   "source": [
    "# Evaluation of Detectron2 Model and Generating Confusion Matrix and Precision-Recall Curve"
   ]
  },
  {
   "cell_type": "markdown",
   "id": "fc6c19da",
   "metadata": {},
   "source": [
    "## Revolutionizes Seismic Image Interpretation with Advanced Deep Learning, using CNNs "
   ]
  },
  {
   "cell_type": "markdown",
   "id": "ecda44eb",
   "metadata": {},
   "source": [
    "## Detectron2 Model Evaluation Confusion Matrix Precision-Recall Curve\n",
    "\n",
    "<img src=\"https://i.imgur.com/qlJoqSZ.png\">\n",
    "\n",
    "Welcome to Detectron2 Model Evaluation Confusion Matrix Precision-Recall Curve!"
   ]
  },
  {
   "cell_type": "code",
   "execution_count": 1,
   "id": "351c255d",
   "metadata": {},
   "outputs": [],
   "source": [
    "from pylabel import importer\n",
    "import logging"
   ]
  },
  {
   "cell_type": "code",
   "execution_count": 2,
   "id": "1fa15f63",
   "metadata": {},
   "outputs": [],
   "source": [
    "#Specify path to the coco.json file\n",
    "path_to_annotations = r\"C:\\Users\\r04ra18\\Desktop\\Object-Detection-Model\\Dataset\\Train\\trainval.json\"\n",
    "#Specify the path to the images (if they are in a different folder than the annotations)\n",
    "path_to_images = r\"C:\\Users\\r04ra18\\Desktop\\Object-Detection-Model\\Dataset\\Train\\images\""
   ]
  },
  {
   "cell_type": "code",
   "execution_count": 3,
   "id": "71526b7c",
   "metadata": {},
   "outputs": [
    {
     "data": {
      "text/html": [
       "<div>\n",
       "<style scoped>\n",
       "    .dataframe tbody tr th:only-of-type {\n",
       "        vertical-align: middle;\n",
       "    }\n",
       "\n",
       "    .dataframe tbody tr th {\n",
       "        vertical-align: top;\n",
       "    }\n",
       "\n",
       "    .dataframe thead th {\n",
       "        text-align: right;\n",
       "    }\n",
       "</style>\n",
       "<table border=\"1\" class=\"dataframe\">\n",
       "  <thead>\n",
       "    <tr style=\"text-align: right;\">\n",
       "      <th></th>\n",
       "      <th>img_folder</th>\n",
       "      <th>img_filename</th>\n",
       "      <th>img_path</th>\n",
       "      <th>img_id</th>\n",
       "      <th>img_width</th>\n",
       "      <th>img_height</th>\n",
       "      <th>img_depth</th>\n",
       "      <th>ann_segmented</th>\n",
       "      <th>ann_bbox_xmin</th>\n",
       "      <th>ann_bbox_ymin</th>\n",
       "      <th>...</th>\n",
       "      <th>ann_segmentation</th>\n",
       "      <th>ann_iscrowd</th>\n",
       "      <th>ann_pose</th>\n",
       "      <th>ann_truncated</th>\n",
       "      <th>ann_difficult</th>\n",
       "      <th>cat_id</th>\n",
       "      <th>cat_name</th>\n",
       "      <th>cat_supercategory</th>\n",
       "      <th>split</th>\n",
       "      <th>annotated</th>\n",
       "    </tr>\n",
       "    <tr>\n",
       "      <th>id</th>\n",
       "      <th></th>\n",
       "      <th></th>\n",
       "      <th></th>\n",
       "      <th></th>\n",
       "      <th></th>\n",
       "      <th></th>\n",
       "      <th></th>\n",
       "      <th></th>\n",
       "      <th></th>\n",
       "      <th></th>\n",
       "      <th></th>\n",
       "      <th></th>\n",
       "      <th></th>\n",
       "      <th></th>\n",
       "      <th></th>\n",
       "      <th></th>\n",
       "      <th></th>\n",
       "      <th></th>\n",
       "      <th></th>\n",
       "      <th></th>\n",
       "      <th></th>\n",
       "    </tr>\n",
       "  </thead>\n",
       "  <tbody>\n",
       "    <tr>\n",
       "      <th>0</th>\n",
       "      <td>C:\\Users\\r04ra18\\Desktop\\Object-Detection-Mode...</td>\n",
       "      <td>acoustic_impedance_Sc_10_Emscher_.png</td>\n",
       "      <td></td>\n",
       "      <td>0</td>\n",
       "      <td>2160</td>\n",
       "      <td>720</td>\n",
       "      <td></td>\n",
       "      <td></td>\n",
       "      <td>192.0</td>\n",
       "      <td>289.0</td>\n",
       "      <td>...</td>\n",
       "      <td>[[250.30303030303028, 432.12121212121207, 215....</td>\n",
       "      <td>0</td>\n",
       "      <td></td>\n",
       "      <td></td>\n",
       "      <td></td>\n",
       "      <td>0</td>\n",
       "      <td>fault</td>\n",
       "      <td>fault</td>\n",
       "      <td></td>\n",
       "      <td>1</td>\n",
       "    </tr>\n",
       "    <tr>\n",
       "      <th>1</th>\n",
       "      <td>C:\\Users\\r04ra18\\Desktop\\Object-Detection-Mode...</td>\n",
       "      <td>acoustic_impedance_Sc_10_Emscher_.png</td>\n",
       "      <td></td>\n",
       "      <td>0</td>\n",
       "      <td>2160</td>\n",
       "      <td>720</td>\n",
       "      <td></td>\n",
       "      <td></td>\n",
       "      <td>212.0</td>\n",
       "      <td>287.0</td>\n",
       "      <td>...</td>\n",
       "      <td>[[212.72727272727272, 287.8787878787879, 235.1...</td>\n",
       "      <td>0</td>\n",
       "      <td></td>\n",
       "      <td></td>\n",
       "      <td></td>\n",
       "      <td>0</td>\n",
       "      <td>fault</td>\n",
       "      <td>fault</td>\n",
       "      <td></td>\n",
       "      <td>1</td>\n",
       "    </tr>\n",
       "    <tr>\n",
       "      <th>2</th>\n",
       "      <td>C:\\Users\\r04ra18\\Desktop\\Object-Detection-Mode...</td>\n",
       "      <td>acoustic_impedance_Sc_10_Emscher_.png</td>\n",
       "      <td></td>\n",
       "      <td>0</td>\n",
       "      <td>2160</td>\n",
       "      <td>720</td>\n",
       "      <td></td>\n",
       "      <td></td>\n",
       "      <td>346.0</td>\n",
       "      <td>293.0</td>\n",
       "      <td>...</td>\n",
       "      <td>[[346.66666666666663, 293.93939393939394, 366....</td>\n",
       "      <td>0</td>\n",
       "      <td></td>\n",
       "      <td></td>\n",
       "      <td></td>\n",
       "      <td>0</td>\n",
       "      <td>fault</td>\n",
       "      <td>fault</td>\n",
       "      <td></td>\n",
       "      <td>1</td>\n",
       "    </tr>\n",
       "    <tr>\n",
       "      <th>3</th>\n",
       "      <td>C:\\Users\\r04ra18\\Desktop\\Object-Detection-Mode...</td>\n",
       "      <td>acoustic_impedance_Sc_10_Emscher_.png</td>\n",
       "      <td></td>\n",
       "      <td>0</td>\n",
       "      <td>2160</td>\n",
       "      <td>720</td>\n",
       "      <td></td>\n",
       "      <td></td>\n",
       "      <td>382.0</td>\n",
       "      <td>278.0</td>\n",
       "      <td>...</td>\n",
       "      <td>[[382.4242424242424, 281.2121212121212, 409.69...</td>\n",
       "      <td>0</td>\n",
       "      <td></td>\n",
       "      <td></td>\n",
       "      <td></td>\n",
       "      <td>0</td>\n",
       "      <td>fault</td>\n",
       "      <td>fault</td>\n",
       "      <td></td>\n",
       "      <td>1</td>\n",
       "    </tr>\n",
       "    <tr>\n",
       "      <th>4</th>\n",
       "      <td>C:\\Users\\r04ra18\\Desktop\\Object-Detection-Mode...</td>\n",
       "      <td>acoustic_impedance_Sc_10_Emscher_.png</td>\n",
       "      <td></td>\n",
       "      <td>0</td>\n",
       "      <td>2160</td>\n",
       "      <td>720</td>\n",
       "      <td></td>\n",
       "      <td></td>\n",
       "      <td>437.0</td>\n",
       "      <td>272.0</td>\n",
       "      <td>...</td>\n",
       "      <td>[[437.57575757575756, 276.96969696969694, 463....</td>\n",
       "      <td>0</td>\n",
       "      <td></td>\n",
       "      <td></td>\n",
       "      <td></td>\n",
       "      <td>0</td>\n",
       "      <td>fault</td>\n",
       "      <td>fault</td>\n",
       "      <td></td>\n",
       "      <td>1</td>\n",
       "    </tr>\n",
       "  </tbody>\n",
       "</table>\n",
       "<p>5 rows × 25 columns</p>\n",
       "</div>"
      ],
      "text/plain": [
       "                                           img_folder  \\\n",
       "id                                                      \n",
       "0   C:\\Users\\r04ra18\\Desktop\\Object-Detection-Mode...   \n",
       "1   C:\\Users\\r04ra18\\Desktop\\Object-Detection-Mode...   \n",
       "2   C:\\Users\\r04ra18\\Desktop\\Object-Detection-Mode...   \n",
       "3   C:\\Users\\r04ra18\\Desktop\\Object-Detection-Mode...   \n",
       "4   C:\\Users\\r04ra18\\Desktop\\Object-Detection-Mode...   \n",
       "\n",
       "                             img_filename img_path  img_id  img_width  \\\n",
       "id                                                                      \n",
       "0   acoustic_impedance_Sc_10_Emscher_.png                0       2160   \n",
       "1   acoustic_impedance_Sc_10_Emscher_.png                0       2160   \n",
       "2   acoustic_impedance_Sc_10_Emscher_.png                0       2160   \n",
       "3   acoustic_impedance_Sc_10_Emscher_.png                0       2160   \n",
       "4   acoustic_impedance_Sc_10_Emscher_.png                0       2160   \n",
       "\n",
       "    img_height img_depth ann_segmented  ann_bbox_xmin  ann_bbox_ymin  ...  \\\n",
       "id                                                                    ...   \n",
       "0          720                                  192.0          289.0  ...   \n",
       "1          720                                  212.0          287.0  ...   \n",
       "2          720                                  346.0          293.0  ...   \n",
       "3          720                                  382.0          278.0  ...   \n",
       "4          720                                  437.0          272.0  ...   \n",
       "\n",
       "                                     ann_segmentation  ann_iscrowd  ann_pose  \\\n",
       "id                                                                             \n",
       "0   [[250.30303030303028, 432.12121212121207, 215....            0             \n",
       "1   [[212.72727272727272, 287.8787878787879, 235.1...            0             \n",
       "2   [[346.66666666666663, 293.93939393939394, 366....            0             \n",
       "3   [[382.4242424242424, 281.2121212121212, 409.69...            0             \n",
       "4   [[437.57575757575756, 276.96969696969694, 463....            0             \n",
       "\n",
       "    ann_truncated  ann_difficult cat_id  cat_name cat_supercategory split  \\\n",
       "id                                                                          \n",
       "0                                     0     fault             fault         \n",
       "1                                     0     fault             fault         \n",
       "2                                     0     fault             fault         \n",
       "3                                     0     fault             fault         \n",
       "4                                     0     fault             fault         \n",
       "\n",
       "   annotated  \n",
       "id            \n",
       "0          1  \n",
       "1          1  \n",
       "2          1  \n",
       "3          1  \n",
       "4          1  \n",
       "\n",
       "[5 rows x 25 columns]"
      ]
     },
     "execution_count": 3,
     "metadata": {},
     "output_type": "execute_result"
    }
   ],
   "source": [
    "#Import the dataset into the pylable schema \n",
    "dataset = importer.ImportCoco(path_to_annotations, path_to_images=path_to_images, name=\"BCCD_coco\")\n",
    "dataset.df.head(5)"
   ]
  },
  {
   "cell_type": "code",
   "execution_count": 4,
   "id": "4698d4e7",
   "metadata": {},
   "outputs": [
    {
     "name": "stdout",
     "output_type": "stream",
     "text": [
      "Number of images: 45\n",
      "Number of classes: 3\n",
      "Classes:['fault', 'flat', 'fold']\n",
      "Class counts:\n",
      "fold     887\n",
      "fault    824\n",
      "flat     225\n",
      "Name: cat_name, dtype: int64\n",
      "Path to annotations:\n",
      "C:\\Users\\r04ra18\\Desktop\\Object-Detection-Model\\Dataset\\Train\n"
     ]
    }
   ],
   "source": [
    "print(f\"Number of images: {dataset.analyze.num_images}\")\n",
    "print(f\"Number of classes: {dataset.analyze.num_classes}\")\n",
    "print(f\"Classes:{dataset.analyze.classes}\")\n",
    "print(f\"Class counts:\\n{dataset.analyze.class_counts}\")\n",
    "print(f\"Path to annotations:\\n{dataset.path_to_annotations}\")"
   ]
  },
  {
   "cell_type": "markdown",
   "id": "b22532ac",
   "metadata": {},
   "source": [
    "## Convert the labels"
   ]
  },
  {
   "cell_type": "code",
   "execution_count": 5,
   "id": "81988188",
   "metadata": {},
   "outputs": [
    {
     "name": "stderr",
     "output_type": "stream",
     "text": [
      "Exporting YOLO files...: 100%|████████████████████████████████████████████████████████| 45/45 [00:00<00:00, 172.85it/s]\n"
     ]
    },
    {
     "data": {
      "text/plain": [
       "'training\\\\dataset.yaml'"
      ]
     },
     "execution_count": 5,
     "metadata": {},
     "output_type": "execute_result"
    }
   ],
   "source": [
    "# run this code to convert from the json to text Yolov5 formate\n",
    "dataset.path_to_annotations = r\"C:\\Users\\r04ra18\\Desktop\\Object-Detection-Model\\Dataset\\Train\\trainval.json\"\n",
    "dataset.export.ExportToYoloV5()[0]"
   ]
  },
  {
   "cell_type": "code",
   "execution_count": 6,
   "id": "4f907cf9",
   "metadata": {},
   "outputs": [],
   "source": [
    "##############################################"
   ]
  },
  {
   "cell_type": "code",
   "execution_count": 7,
   "id": "458fa70a",
   "metadata": {},
   "outputs": [],
   "source": [
    "import logging\n",
    "from pylabel import importer\n",
    "logging.getLogger().setLevel(logging.CRITICAL)"
   ]
  },
  {
   "cell_type": "code",
   "execution_count": 8,
   "id": "5fcce307",
   "metadata": {},
   "outputs": [],
   "source": [
    "#Specify path to the coco.json file\n",
    "path_to_annotations = r\"C:\\Users\\r04ra18\\Desktop\\Object-Detection-Model\\Dataset\\Train\\trainval.json\"\n",
    "#Specify the path to the images (if they are in a different folder than the annotations)\n",
    "path_to_images = r\"C:\\Users\\r04ra18\\Desktop\\Object-Detection-Model\\Dataset\\Train\\images\""
   ]
  },
  {
   "cell_type": "code",
   "execution_count": 9,
   "id": "dcaa6776",
   "metadata": {},
   "outputs": [
    {
     "data": {
      "text/html": [
       "<div>\n",
       "<style scoped>\n",
       "    .dataframe tbody tr th:only-of-type {\n",
       "        vertical-align: middle;\n",
       "    }\n",
       "\n",
       "    .dataframe tbody tr th {\n",
       "        vertical-align: top;\n",
       "    }\n",
       "\n",
       "    .dataframe thead th {\n",
       "        text-align: right;\n",
       "    }\n",
       "</style>\n",
       "<table border=\"1\" class=\"dataframe\">\n",
       "  <thead>\n",
       "    <tr style=\"text-align: right;\">\n",
       "      <th></th>\n",
       "      <th>img_folder</th>\n",
       "      <th>img_filename</th>\n",
       "      <th>img_path</th>\n",
       "      <th>img_id</th>\n",
       "      <th>img_width</th>\n",
       "      <th>img_height</th>\n",
       "      <th>img_depth</th>\n",
       "      <th>ann_segmented</th>\n",
       "      <th>ann_bbox_xmin</th>\n",
       "      <th>ann_bbox_ymin</th>\n",
       "      <th>...</th>\n",
       "      <th>ann_segmentation</th>\n",
       "      <th>ann_iscrowd</th>\n",
       "      <th>ann_pose</th>\n",
       "      <th>ann_truncated</th>\n",
       "      <th>ann_difficult</th>\n",
       "      <th>cat_id</th>\n",
       "      <th>cat_name</th>\n",
       "      <th>cat_supercategory</th>\n",
       "      <th>split</th>\n",
       "      <th>annotated</th>\n",
       "    </tr>\n",
       "    <tr>\n",
       "      <th>id</th>\n",
       "      <th></th>\n",
       "      <th></th>\n",
       "      <th></th>\n",
       "      <th></th>\n",
       "      <th></th>\n",
       "      <th></th>\n",
       "      <th></th>\n",
       "      <th></th>\n",
       "      <th></th>\n",
       "      <th></th>\n",
       "      <th></th>\n",
       "      <th></th>\n",
       "      <th></th>\n",
       "      <th></th>\n",
       "      <th></th>\n",
       "      <th></th>\n",
       "      <th></th>\n",
       "      <th></th>\n",
       "      <th></th>\n",
       "      <th></th>\n",
       "      <th></th>\n",
       "    </tr>\n",
       "  </thead>\n",
       "  <tbody>\n",
       "    <tr>\n",
       "      <th>0</th>\n",
       "      <td>C:\\Users\\r04ra18\\Desktop\\Object-Detection-Mode...</td>\n",
       "      <td>acoustic_impedance_Sc_10_Emscher_.png</td>\n",
       "      <td></td>\n",
       "      <td>0</td>\n",
       "      <td>2160</td>\n",
       "      <td>720</td>\n",
       "      <td></td>\n",
       "      <td></td>\n",
       "      <td>192.0</td>\n",
       "      <td>289.0</td>\n",
       "      <td>...</td>\n",
       "      <td>[[250.30303030303028, 432.12121212121207, 215....</td>\n",
       "      <td>0</td>\n",
       "      <td></td>\n",
       "      <td></td>\n",
       "      <td></td>\n",
       "      <td>0</td>\n",
       "      <td>fault</td>\n",
       "      <td>fault</td>\n",
       "      <td></td>\n",
       "      <td>1</td>\n",
       "    </tr>\n",
       "    <tr>\n",
       "      <th>1</th>\n",
       "      <td>C:\\Users\\r04ra18\\Desktop\\Object-Detection-Mode...</td>\n",
       "      <td>acoustic_impedance_Sc_10_Emscher_.png</td>\n",
       "      <td></td>\n",
       "      <td>0</td>\n",
       "      <td>2160</td>\n",
       "      <td>720</td>\n",
       "      <td></td>\n",
       "      <td></td>\n",
       "      <td>212.0</td>\n",
       "      <td>287.0</td>\n",
       "      <td>...</td>\n",
       "      <td>[[212.72727272727272, 287.8787878787879, 235.1...</td>\n",
       "      <td>0</td>\n",
       "      <td></td>\n",
       "      <td></td>\n",
       "      <td></td>\n",
       "      <td>0</td>\n",
       "      <td>fault</td>\n",
       "      <td>fault</td>\n",
       "      <td></td>\n",
       "      <td>1</td>\n",
       "    </tr>\n",
       "    <tr>\n",
       "      <th>2</th>\n",
       "      <td>C:\\Users\\r04ra18\\Desktop\\Object-Detection-Mode...</td>\n",
       "      <td>acoustic_impedance_Sc_10_Emscher_.png</td>\n",
       "      <td></td>\n",
       "      <td>0</td>\n",
       "      <td>2160</td>\n",
       "      <td>720</td>\n",
       "      <td></td>\n",
       "      <td></td>\n",
       "      <td>346.0</td>\n",
       "      <td>293.0</td>\n",
       "      <td>...</td>\n",
       "      <td>[[346.66666666666663, 293.93939393939394, 366....</td>\n",
       "      <td>0</td>\n",
       "      <td></td>\n",
       "      <td></td>\n",
       "      <td></td>\n",
       "      <td>0</td>\n",
       "      <td>fault</td>\n",
       "      <td>fault</td>\n",
       "      <td></td>\n",
       "      <td>1</td>\n",
       "    </tr>\n",
       "    <tr>\n",
       "      <th>3</th>\n",
       "      <td>C:\\Users\\r04ra18\\Desktop\\Object-Detection-Mode...</td>\n",
       "      <td>acoustic_impedance_Sc_10_Emscher_.png</td>\n",
       "      <td></td>\n",
       "      <td>0</td>\n",
       "      <td>2160</td>\n",
       "      <td>720</td>\n",
       "      <td></td>\n",
       "      <td></td>\n",
       "      <td>382.0</td>\n",
       "      <td>278.0</td>\n",
       "      <td>...</td>\n",
       "      <td>[[382.4242424242424, 281.2121212121212, 409.69...</td>\n",
       "      <td>0</td>\n",
       "      <td></td>\n",
       "      <td></td>\n",
       "      <td></td>\n",
       "      <td>0</td>\n",
       "      <td>fault</td>\n",
       "      <td>fault</td>\n",
       "      <td></td>\n",
       "      <td>1</td>\n",
       "    </tr>\n",
       "    <tr>\n",
       "      <th>4</th>\n",
       "      <td>C:\\Users\\r04ra18\\Desktop\\Object-Detection-Mode...</td>\n",
       "      <td>acoustic_impedance_Sc_10_Emscher_.png</td>\n",
       "      <td></td>\n",
       "      <td>0</td>\n",
       "      <td>2160</td>\n",
       "      <td>720</td>\n",
       "      <td></td>\n",
       "      <td></td>\n",
       "      <td>437.0</td>\n",
       "      <td>272.0</td>\n",
       "      <td>...</td>\n",
       "      <td>[[437.57575757575756, 276.96969696969694, 463....</td>\n",
       "      <td>0</td>\n",
       "      <td></td>\n",
       "      <td></td>\n",
       "      <td></td>\n",
       "      <td>0</td>\n",
       "      <td>fault</td>\n",
       "      <td>fault</td>\n",
       "      <td></td>\n",
       "      <td>1</td>\n",
       "    </tr>\n",
       "  </tbody>\n",
       "</table>\n",
       "<p>5 rows × 25 columns</p>\n",
       "</div>"
      ],
      "text/plain": [
       "                                           img_folder  \\\n",
       "id                                                      \n",
       "0   C:\\Users\\r04ra18\\Desktop\\Object-Detection-Mode...   \n",
       "1   C:\\Users\\r04ra18\\Desktop\\Object-Detection-Mode...   \n",
       "2   C:\\Users\\r04ra18\\Desktop\\Object-Detection-Mode...   \n",
       "3   C:\\Users\\r04ra18\\Desktop\\Object-Detection-Mode...   \n",
       "4   C:\\Users\\r04ra18\\Desktop\\Object-Detection-Mode...   \n",
       "\n",
       "                             img_filename img_path  img_id  img_width  \\\n",
       "id                                                                      \n",
       "0   acoustic_impedance_Sc_10_Emscher_.png                0       2160   \n",
       "1   acoustic_impedance_Sc_10_Emscher_.png                0       2160   \n",
       "2   acoustic_impedance_Sc_10_Emscher_.png                0       2160   \n",
       "3   acoustic_impedance_Sc_10_Emscher_.png                0       2160   \n",
       "4   acoustic_impedance_Sc_10_Emscher_.png                0       2160   \n",
       "\n",
       "    img_height img_depth ann_segmented  ann_bbox_xmin  ann_bbox_ymin  ...  \\\n",
       "id                                                                    ...   \n",
       "0          720                                  192.0          289.0  ...   \n",
       "1          720                                  212.0          287.0  ...   \n",
       "2          720                                  346.0          293.0  ...   \n",
       "3          720                                  382.0          278.0  ...   \n",
       "4          720                                  437.0          272.0  ...   \n",
       "\n",
       "                                     ann_segmentation  ann_iscrowd  ann_pose  \\\n",
       "id                                                                             \n",
       "0   [[250.30303030303028, 432.12121212121207, 215....            0             \n",
       "1   [[212.72727272727272, 287.8787878787879, 235.1...            0             \n",
       "2   [[346.66666666666663, 293.93939393939394, 366....            0             \n",
       "3   [[382.4242424242424, 281.2121212121212, 409.69...            0             \n",
       "4   [[437.57575757575756, 276.96969696969694, 463....            0             \n",
       "\n",
       "    ann_truncated  ann_difficult cat_id  cat_name cat_supercategory split  \\\n",
       "id                                                                          \n",
       "0                                     0     fault             fault         \n",
       "1                                     0     fault             fault         \n",
       "2                                     0     fault             fault         \n",
       "3                                     0     fault             fault         \n",
       "4                                     0     fault             fault         \n",
       "\n",
       "   annotated  \n",
       "id            \n",
       "0          1  \n",
       "1          1  \n",
       "2          1  \n",
       "3          1  \n",
       "4          1  \n",
       "\n",
       "[5 rows x 25 columns]"
      ]
     },
     "execution_count": 9,
     "metadata": {},
     "output_type": "execute_result"
    }
   ],
   "source": [
    "#Import the dataset into the pylable schema \n",
    "dataset = importer.ImportCoco(path_to_annotations, path_to_images=path_to_images, name=\"Segmentation\")\n",
    "dataset.df.head(5)"
   ]
  },
  {
   "cell_type": "code",
   "execution_count": 10,
   "id": "13e4a19b",
   "metadata": {},
   "outputs": [
    {
     "name": "stderr",
     "output_type": "stream",
     "text": [
      "Exporting YOLO files...: 100%|█████████████████████████████████████████████████████████| 45/45 [00:09<00:00,  4.55it/s]\n"
     ]
    },
    {
     "data": {
      "text/plain": [
       "'training\\\\labels\\\\acoustic_impedance_Sc_10_Emscher_.txt'"
      ]
     },
     "execution_count": 10,
     "metadata": {},
     "output_type": "execute_result"
    }
   ],
   "source": [
    "dataset.path_to_annotations = \"data/yolo\"\n",
    "dataset.export.ExportToYoloV5(segmentation=True)[1]"
   ]
  },
  {
   "cell_type": "code",
   "execution_count": 11,
   "id": "c1f1c551",
   "metadata": {},
   "outputs": [
    {
     "name": "stderr",
     "output_type": "stream",
     "text": [
      "Exporting YOLO files...: 100%|████████████████████████████████████████████████████████| 45/45 [00:00<00:00, 161.72it/s]\n"
     ]
    },
    {
     "data": {
      "text/plain": [
       "'training\\\\dataset.yaml'"
      ]
     },
     "execution_count": 11,
     "metadata": {},
     "output_type": "execute_result"
    }
   ],
   "source": [
    "# run this code to convert from the json to text Yolov5 format\n",
    "dataset.path_to_annotations = r\"C:\\Users\\r04ra18\\Desktop\\Object-Detection-Model\\Dataset\\Train\\trainval.json\"\n",
    "dataset.export.ExportToYoloV5()[0]"
   ]
  },
  {
   "cell_type": "code",
   "execution_count": 12,
   "id": "562bdae7",
   "metadata": {},
   "outputs": [],
   "source": [
    "###############################"
   ]
  },
  {
   "cell_type": "markdown",
   "id": "b624412b",
   "metadata": {},
   "source": [
    "## Model Evaluation"
   ]
  },
  {
   "cell_type": "code",
   "execution_count": 13,
   "id": "e30dcc25",
   "metadata": {},
   "outputs": [],
   "source": [
    "import pandas as pd\n",
    "import matplotlib.pyplot as plt\n",
    "from sklearn.metrics import precision_recall_curve"
   ]
  },
  {
   "cell_type": "code",
   "execution_count": 14,
   "id": "9dc9cdf6",
   "metadata": {},
   "outputs": [],
   "source": [
    "Inferencing_loaded_df = pd.read_csv(r'C:\\Users\\r04ra18\\Desktop\\Object-Detection-Model\\coco2yolo\\data_df.csv')"
   ]
  },
  {
   "cell_type": "code",
   "execution_count": 15,
   "id": "d5fa844a",
   "metadata": {},
   "outputs": [],
   "source": [
    "annotation_images_df = dataset.df[['img_filename','img_id','ann_bbox_xmin', 'ann_bbox_ymin', 'ann_bbox_xmax', 'ann_bbox_ymax','cat_id', 'cat_name']]"
   ]
  },
  {
   "cell_type": "code",
   "execution_count": 16,
   "id": "d69d35c1",
   "metadata": {},
   "outputs": [],
   "source": [
    "annotation_images_df = annotation_images_df.reset_index(drop=True)"
   ]
  },
  {
   "cell_type": "markdown",
   "id": "53e4911f",
   "metadata": {},
   "source": [
    "## Confusion Matrix "
   ]
  },
  {
   "cell_type": "code",
   "execution_count": 17,
   "id": "c73d9038",
   "metadata": {},
   "outputs": [],
   "source": [
    "xx = 250\n",
    "scale_fc = 0.12"
   ]
  },
  {
   "cell_type": "code",
   "execution_count": 18,
   "id": "fddb754c",
   "metadata": {},
   "outputs": [],
   "source": [
    "x_min_results_ls = []\n",
    "for i in range(len(Inferencing_loaded_df['image_id'])):\n",
    "    x_min_results_ls.append(Inferencing_loaded_df['x_min'][i] - annotation_images_df['ann_bbox_xmin'][i])"
   ]
  },
  {
   "cell_type": "code",
   "execution_count": 19,
   "id": "c0366f20",
   "metadata": {},
   "outputs": [],
   "source": [
    "y_min_results_ls = []\n",
    "for i in range(len(Inferencing_loaded_df['image_id'])):\n",
    "    y_min_results_ls.append(Inferencing_loaded_df['y_min'][i] - annotation_images_df['ann_bbox_ymin'][i])"
   ]
  },
  {
   "cell_type": "code",
   "execution_count": 20,
   "id": "5111ccd5",
   "metadata": {},
   "outputs": [],
   "source": [
    "Inferencing_loaded_df['x_Diff'] = x_min_results_ls\n",
    "Inferencing_loaded_df['y_Diff'] = y_min_results_ls"
   ]
  },
  {
   "cell_type": "code",
   "execution_count": 21,
   "id": "bc8755cd",
   "metadata": {},
   "outputs": [],
   "source": [
    "# Iterate through each row in annotation_images_df\n",
    "for index, row in Inferencing_loaded_df.iterrows():\n",
    "    xmin = row['x_Diff']\n",
    "    ymin = row['y_Diff']\n",
    "\n",
    "    if -xx <= xmin <= xx or -xx <= ymin <= xx:\n",
    "        # Look for the corresponding row in Inferencing_loaded_df\n",
    "        infer_row = Inferencing_loaded_df.loc[index]\n",
    "        score = infer_row['score']\n",
    "        \n",
    "        if score > 0.3:\n",
    "            Inferencing_loaded_df.at[index, 'Result'] = 'TP'\n",
    "        else:\n",
    "            Inferencing_loaded_df.at[index, 'Result'] = 'TN'\n",
    "    else:\n",
    "        Inferencing_loaded_df.at[index, 'Result'] = 'FP'\n"
   ]
  },
  {
   "cell_type": "code",
   "execution_count": 22,
   "id": "16df8f72",
   "metadata": {},
   "outputs": [
    {
     "data": {
      "text/plain": [
       "1597"
      ]
     },
     "execution_count": 22,
     "metadata": {},
     "output_type": "execute_result"
    }
   ],
   "source": [
    "Inferencing_loaded_df[Inferencing_loaded_df['Result'] == 'TP'].shape[0]"
   ]
  },
  {
   "cell_type": "code",
   "execution_count": 23,
   "id": "a76737d9",
   "metadata": {},
   "outputs": [
    {
     "data": {
      "text/plain": [
       "117"
      ]
     },
     "execution_count": 23,
     "metadata": {},
     "output_type": "execute_result"
    }
   ],
   "source": [
    "Inferencing_loaded_df[Inferencing_loaded_df['Result'] == 'FP'].shape[0]"
   ]
  },
  {
   "cell_type": "code",
   "execution_count": 24,
   "id": "3b582c09",
   "metadata": {},
   "outputs": [
    {
     "data": {
      "text/plain": [
       "177"
      ]
     },
     "execution_count": 24,
     "metadata": {},
     "output_type": "execute_result"
    }
   ],
   "source": [
    "Inferencing_loaded_df[Inferencing_loaded_df['Result'] == 'TN'].shape[0]"
   ]
  },
  {
   "cell_type": "markdown",
   "id": "1d6ae824",
   "metadata": {},
   "source": [
    "## TP, TN, FP and FN"
   ]
  },
  {
   "cell_type": "code",
   "execution_count": 25,
   "id": "e696e669",
   "metadata": {},
   "outputs": [
    {
     "data": {
      "text/plain": [
       "1597"
      ]
     },
     "execution_count": 25,
     "metadata": {},
     "output_type": "execute_result"
    }
   ],
   "source": [
    "True_Positives_TP = Inferencing_loaded_df[Inferencing_loaded_df['Result'] == 'TP'].shape[0]\n",
    "True_Positives_TP"
   ]
  },
  {
   "cell_type": "code",
   "execution_count": 26,
   "id": "71046f97",
   "metadata": {},
   "outputs": [
    {
     "data": {
      "text/plain": [
       "117"
      ]
     },
     "execution_count": 26,
     "metadata": {},
     "output_type": "execute_result"
    }
   ],
   "source": [
    "False_Positives_FP = Inferencing_loaded_df[Inferencing_loaded_df['Result'] == 'FP'].shape[0]\n",
    "False_Positives_FP"
   ]
  },
  {
   "cell_type": "code",
   "execution_count": 27,
   "id": "ffd3160f",
   "metadata": {},
   "outputs": [
    {
     "data": {
      "text/plain": [
       "177"
      ]
     },
     "execution_count": 27,
     "metadata": {},
     "output_type": "execute_result"
    }
   ],
   "source": [
    "True_Negatives_TN = Inferencing_loaded_df[Inferencing_loaded_df['Result'] == 'TN'].shape[0]\n",
    "True_Negatives_TN"
   ]
  },
  {
   "cell_type": "code",
   "execution_count": 28,
   "id": "46b63e22",
   "metadata": {},
   "outputs": [],
   "source": [
    "Num_of_ground_truth_TP = 1936"
   ]
  },
  {
   "cell_type": "markdown",
   "id": "c18e0949",
   "metadata": {},
   "source": [
    "Now let us create the False Negatives"
   ]
  },
  {
   "cell_type": "markdown",
   "id": "b182aae9",
   "metadata": {},
   "source": [
    "## Draw Confusion Matrix"
   ]
  },
  {
   "cell_type": "code",
   "execution_count": 29,
   "id": "7b118d61",
   "metadata": {},
   "outputs": [
    {
     "data": {
      "text/plain": [
       "339"
      ]
     },
     "execution_count": 29,
     "metadata": {},
     "output_type": "execute_result"
    }
   ],
   "source": [
    "False_Negatives_FN = Num_of_ground_truth_TP - True_Positives_TP\n",
    "False_Negatives_FN"
   ]
  },
  {
   "cell_type": "code",
   "execution_count": 30,
   "id": "1a40bcb9",
   "metadata": {},
   "outputs": [
    {
     "data": {
      "application/javascript": [
       "\n",
       "        if (window._pyforest_update_imports_cell) { window._pyforest_update_imports_cell('import numpy as np'); }\n",
       "    "
      ],
      "text/plain": [
       "<IPython.core.display.Javascript object>"
      ]
     },
     "metadata": {},
     "output_type": "display_data"
    },
    {
     "data": {
      "application/javascript": [
       "\n",
       "        if (window._pyforest_update_imports_cell) { window._pyforest_update_imports_cell('import numpy as np'); }\n",
       "    "
      ],
      "text/plain": [
       "<IPython.core.display.Javascript object>"
      ]
     },
     "metadata": {},
     "output_type": "display_data"
    },
    {
     "data": {
      "image/png": "[encoded data removed]",
      "text/plain": [
       "<Figure size 576x432 with 2 Axes>"
      ]
     },
     "metadata": {
      "needs_background": "light"
     },
     "output_type": "display_data"
    }
   ],
   "source": [
    "confusion_matrix = np.array([[True_Negatives_TN, False_Positives_FP], [False_Negatives_FN, True_Positives_TP]])\n",
    "\n",
    "# Define class labels\n",
    "class_labels = ['Actual Negative', 'Actual Positive']\n",
    "class_names = ['TN', 'FP', 'FN', 'TP']\n",
    "\n",
    "# Create confusion matrix heatmap\n",
    "plt.figure(figsize=(8, 6))\n",
    "plt.imshow(confusion_matrix, interpolation='nearest', cmap=plt.cm.Blues)\n",
    "plt.title('Confusion Matrix')\n",
    "plt.colorbar()\n",
    "\n",
    "# Add class names to the heatmap\n",
    "tick_marks = np.arange(len(class_labels))\n",
    "plt.xticks(tick_marks, class_labels, rotation=45)\n",
    "plt.yticks(tick_marks, class_labels)\n",
    "\n",
    "# Annotate the heatmap cells with counts\n",
    "for i in range(len(class_labels)):\n",
    "    for j in range(len(class_labels)):\n",
    "        plt.text(j, i, str(confusion_matrix[i, j]), horizontalalignment='center', verticalalignment='center')\n",
    "\n",
    "plt.ylabel('True')\n",
    "plt.xlabel('Predicted')\n",
    "plt.show()\n"
   ]
  },
  {
   "cell_type": "code",
   "execution_count": 31,
   "id": "fbcd3b11",
   "metadata": {},
   "outputs": [],
   "source": [
    "# get the dummies and store it in a variable\n",
    "dummies = pd.get_dummies(Inferencing_loaded_df['Result'])\n",
    "\n",
    "Inferencing_loaded_df = pd.concat([Inferencing_loaded_df, dummies], axis='columns')\n",
    "Inferencing_loaded_df = Inferencing_loaded_df.sort_values(by='score', ascending=False).reset_index(drop=True)"
   ]
  },
  {
   "cell_type": "code",
   "execution_count": 32,
   "id": "8b059b6a",
   "metadata": {},
   "outputs": [
    {
     "data": {
      "text/html": [
       "<div>\n",
       "<style scoped>\n",
       "    .dataframe tbody tr th:only-of-type {\n",
       "        vertical-align: middle;\n",
       "    }\n",
       "\n",
       "    .dataframe tbody tr th {\n",
       "        vertical-align: top;\n",
       "    }\n",
       "\n",
       "    .dataframe thead th {\n",
       "        text-align: right;\n",
       "    }\n",
       "</style>\n",
       "<table border=\"1\" class=\"dataframe\">\n",
       "  <thead>\n",
       "    <tr style=\"text-align: right;\">\n",
       "      <th></th>\n",
       "      <th>image_id</th>\n",
       "      <th>category_id</th>\n",
       "      <th>score</th>\n",
       "      <th>bbox</th>\n",
       "      <th>x_min</th>\n",
       "      <th>y_min</th>\n",
       "      <th>x_Diff</th>\n",
       "      <th>y_Diff</th>\n",
       "      <th>Result</th>\n",
       "      <th>FP</th>\n",
       "      <th>TN</th>\n",
       "      <th>TP</th>\n",
       "    </tr>\n",
       "  </thead>\n",
       "  <tbody>\n",
       "    <tr>\n",
       "      <th>0</th>\n",
       "      <td>16</td>\n",
       "      <td>2</td>\n",
       "      <td>1.000000</td>\n",
       "      <td>[1156.2493896484375, 218.3879852294922, 260.82...</td>\n",
       "      <td>1156.249390</td>\n",
       "      <td>218.387985</td>\n",
       "      <td>626.249390</td>\n",
       "      <td>-229.612015</td>\n",
       "      <td>TP</td>\n",
       "      <td>0</td>\n",
       "      <td>0</td>\n",
       "      <td>1</td>\n",
       "    </tr>\n",
       "    <tr>\n",
       "      <th>1</th>\n",
       "      <td>41</td>\n",
       "      <td>0</td>\n",
       "      <td>1.000000</td>\n",
       "      <td>[275.4774475097656, 264.3233947753906, 73.1826...</td>\n",
       "      <td>275.477448</td>\n",
       "      <td>264.323395</td>\n",
       "      <td>-30.522552</td>\n",
       "      <td>32.323395</td>\n",
       "      <td>TP</td>\n",
       "      <td>0</td>\n",
       "      <td>0</td>\n",
       "      <td>1</td>\n",
       "    </tr>\n",
       "    <tr>\n",
       "      <th>2</th>\n",
       "      <td>17</td>\n",
       "      <td>2</td>\n",
       "      <td>1.000000</td>\n",
       "      <td>[1187.028076171875, 184.4723663330078, 244.274...</td>\n",
       "      <td>1187.028076</td>\n",
       "      <td>184.472366</td>\n",
       "      <td>444.028076</td>\n",
       "      <td>-262.527634</td>\n",
       "      <td>FP</td>\n",
       "      <td>1</td>\n",
       "      <td>0</td>\n",
       "      <td>0</td>\n",
       "    </tr>\n",
       "    <tr>\n",
       "      <th>3</th>\n",
       "      <td>19</td>\n",
       "      <td>2</td>\n",
       "      <td>1.000000</td>\n",
       "      <td>[600.3818359375, 194.64263916015625, 408.21807...</td>\n",
       "      <td>600.381836</td>\n",
       "      <td>194.642639</td>\n",
       "      <td>-682.618164</td>\n",
       "      <td>-75.357361</td>\n",
       "      <td>TP</td>\n",
       "      <td>0</td>\n",
       "      <td>0</td>\n",
       "      <td>1</td>\n",
       "    </tr>\n",
       "    <tr>\n",
       "      <th>4</th>\n",
       "      <td>7</td>\n",
       "      <td>0</td>\n",
       "      <td>1.000000</td>\n",
       "      <td>[1140.46142578125, 440.96136474609375, 96.1613...</td>\n",
       "      <td>1140.461426</td>\n",
       "      <td>440.961365</td>\n",
       "      <td>-388.538574</td>\n",
       "      <td>202.961365</td>\n",
       "      <td>TP</td>\n",
       "      <td>0</td>\n",
       "      <td>0</td>\n",
       "      <td>1</td>\n",
       "    </tr>\n",
       "    <tr>\n",
       "      <th>...</th>\n",
       "      <td>...</td>\n",
       "      <td>...</td>\n",
       "      <td>...</td>\n",
       "      <td>...</td>\n",
       "      <td>...</td>\n",
       "      <td>...</td>\n",
       "      <td>...</td>\n",
       "      <td>...</td>\n",
       "      <td>...</td>\n",
       "      <td>...</td>\n",
       "      <td>...</td>\n",
       "      <td>...</td>\n",
       "    </tr>\n",
       "    <tr>\n",
       "      <th>1886</th>\n",
       "      <td>5</td>\n",
       "      <td>0</td>\n",
       "      <td>0.051077</td>\n",
       "      <td>[1582.236572265625, 199.0547637939453, 112.252...</td>\n",
       "      <td>1582.236572</td>\n",
       "      <td>199.054764</td>\n",
       "      <td>564.236572</td>\n",
       "      <td>-3.945236</td>\n",
       "      <td>TN</td>\n",
       "      <td>0</td>\n",
       "      <td>1</td>\n",
       "      <td>0</td>\n",
       "    </tr>\n",
       "    <tr>\n",
       "      <th>1887</th>\n",
       "      <td>17</td>\n",
       "      <td>2</td>\n",
       "      <td>0.051064</td>\n",
       "      <td>[323.7472839355469, 392.080810546875, 36.61990...</td>\n",
       "      <td>323.747284</td>\n",
       "      <td>392.080811</td>\n",
       "      <td>-976.252716</td>\n",
       "      <td>92.080811</td>\n",
       "      <td>TN</td>\n",
       "      <td>0</td>\n",
       "      <td>1</td>\n",
       "      <td>0</td>\n",
       "    </tr>\n",
       "    <tr>\n",
       "      <th>1888</th>\n",
       "      <td>18</td>\n",
       "      <td>2</td>\n",
       "      <td>0.051062</td>\n",
       "      <td>[1487.0814208984375, 201.0834503173828, 57.644...</td>\n",
       "      <td>1487.081421</td>\n",
       "      <td>201.083450</td>\n",
       "      <td>285.081421</td>\n",
       "      <td>-19.916550</td>\n",
       "      <td>TN</td>\n",
       "      <td>0</td>\n",
       "      <td>1</td>\n",
       "      <td>0</td>\n",
       "    </tr>\n",
       "    <tr>\n",
       "      <th>1889</th>\n",
       "      <td>10</td>\n",
       "      <td>0</td>\n",
       "      <td>0.050991</td>\n",
       "      <td>[204.5784454345703, 230.83824157714844, 101.29...</td>\n",
       "      <td>204.578445</td>\n",
       "      <td>230.838242</td>\n",
       "      <td>-924.421555</td>\n",
       "      <td>-189.161758</td>\n",
       "      <td>TN</td>\n",
       "      <td>0</td>\n",
       "      <td>1</td>\n",
       "      <td>0</td>\n",
       "    </tr>\n",
       "    <tr>\n",
       "      <th>1890</th>\n",
       "      <td>38</td>\n",
       "      <td>0</td>\n",
       "      <td>0.050346</td>\n",
       "      <td>[1122.100341796875, 151.0290985107422, 54.0983...</td>\n",
       "      <td>1122.100342</td>\n",
       "      <td>151.029099</td>\n",
       "      <td>718.100342</td>\n",
       "      <td>-12.970901</td>\n",
       "      <td>TN</td>\n",
       "      <td>0</td>\n",
       "      <td>1</td>\n",
       "      <td>0</td>\n",
       "    </tr>\n",
       "  </tbody>\n",
       "</table>\n",
       "<p>1891 rows × 12 columns</p>\n",
       "</div>"
      ],
      "text/plain": [
       "      image_id  category_id     score  \\\n",
       "0           16            2  1.000000   \n",
       "1           41            0  1.000000   \n",
       "2           17            2  1.000000   \n",
       "3           19            2  1.000000   \n",
       "4            7            0  1.000000   \n",
       "...        ...          ...       ...   \n",
       "1886         5            0  0.051077   \n",
       "1887        17            2  0.051064   \n",
       "1888        18            2  0.051062   \n",
       "1889        10            0  0.050991   \n",
       "1890        38            0  0.050346   \n",
       "\n",
       "                                                   bbox        x_min  \\\n",
       "0     [1156.2493896484375, 218.3879852294922, 260.82...  1156.249390   \n",
       "1     [275.4774475097656, 264.3233947753906, 73.1826...   275.477448   \n",
       "2     [1187.028076171875, 184.4723663330078, 244.274...  1187.028076   \n",
       "3     [600.3818359375, 194.64263916015625, 408.21807...   600.381836   \n",
       "4     [1140.46142578125, 440.96136474609375, 96.1613...  1140.461426   \n",
       "...                                                 ...          ...   \n",
       "1886  [1582.236572265625, 199.0547637939453, 112.252...  1582.236572   \n",
       "1887  [323.7472839355469, 392.080810546875, 36.61990...   323.747284   \n",
       "1888  [1487.0814208984375, 201.0834503173828, 57.644...  1487.081421   \n",
       "1889  [204.5784454345703, 230.83824157714844, 101.29...   204.578445   \n",
       "1890  [1122.100341796875, 151.0290985107422, 54.0983...  1122.100342   \n",
       "\n",
       "           y_min      x_Diff      y_Diff Result  FP  TN  TP  \n",
       "0     218.387985  626.249390 -229.612015     TP   0   0   1  \n",
       "1     264.323395  -30.522552   32.323395     TP   0   0   1  \n",
       "2     184.472366  444.028076 -262.527634     FP   1   0   0  \n",
       "3     194.642639 -682.618164  -75.357361     TP   0   0   1  \n",
       "4     440.961365 -388.538574  202.961365     TP   0   0   1  \n",
       "...          ...         ...         ...    ...  ..  ..  ..  \n",
       "1886  199.054764  564.236572   -3.945236     TN   0   1   0  \n",
       "1887  392.080811 -976.252716   92.080811     TN   0   1   0  \n",
       "1888  201.083450  285.081421  -19.916550     TN   0   1   0  \n",
       "1889  230.838242 -924.421555 -189.161758     TN   0   1   0  \n",
       "1890  151.029099  718.100342  -12.970901     TN   0   1   0  \n",
       "\n",
       "[1891 rows x 12 columns]"
      ]
     },
     "execution_count": 32,
     "metadata": {},
     "output_type": "execute_result"
    }
   ],
   "source": [
    "Inferencing_loaded_df"
   ]
  },
  {
   "cell_type": "code",
   "execution_count": 33,
   "id": "bd73777b",
   "metadata": {},
   "outputs": [],
   "source": [
    "Inferencing_loaded_df['Acc_TP'] = Inferencing_loaded_df['TP'].cumsum()\n",
    "Inferencing_loaded_df['Acc_FP'] = Inferencing_loaded_df['FP'].cumsum()\n",
    "Inferencing_loaded_df['Acc_TN'] = Inferencing_loaded_df['TN'].cumsum()"
   ]
  },
  {
   "cell_type": "code",
   "execution_count": 34,
   "id": "6763e039",
   "metadata": {},
   "outputs": [
    {
     "data": {
      "text/html": [
       "<div>\n",
       "<style scoped>\n",
       "    .dataframe tbody tr th:only-of-type {\n",
       "        vertical-align: middle;\n",
       "    }\n",
       "\n",
       "    .dataframe tbody tr th {\n",
       "        vertical-align: top;\n",
       "    }\n",
       "\n",
       "    .dataframe thead th {\n",
       "        text-align: right;\n",
       "    }\n",
       "</style>\n",
       "<table border=\"1\" class=\"dataframe\">\n",
       "  <thead>\n",
       "    <tr style=\"text-align: right;\">\n",
       "      <th></th>\n",
       "      <th>image_id</th>\n",
       "      <th>category_id</th>\n",
       "      <th>score</th>\n",
       "      <th>bbox</th>\n",
       "      <th>x_min</th>\n",
       "      <th>y_min</th>\n",
       "      <th>x_Diff</th>\n",
       "      <th>y_Diff</th>\n",
       "      <th>Result</th>\n",
       "      <th>FP</th>\n",
       "      <th>TN</th>\n",
       "      <th>TP</th>\n",
       "      <th>Acc_TP</th>\n",
       "      <th>Acc_FP</th>\n",
       "      <th>Acc_TN</th>\n",
       "    </tr>\n",
       "  </thead>\n",
       "  <tbody>\n",
       "    <tr>\n",
       "      <th>0</th>\n",
       "      <td>16</td>\n",
       "      <td>2</td>\n",
       "      <td>1.000000</td>\n",
       "      <td>[1156.2493896484375, 218.3879852294922, 260.82...</td>\n",
       "      <td>1156.249390</td>\n",
       "      <td>218.387985</td>\n",
       "      <td>626.249390</td>\n",
       "      <td>-229.612015</td>\n",
       "      <td>TP</td>\n",
       "      <td>0</td>\n",
       "      <td>0</td>\n",
       "      <td>1</td>\n",
       "      <td>1</td>\n",
       "      <td>0</td>\n",
       "      <td>0</td>\n",
       "    </tr>\n",
       "    <tr>\n",
       "      <th>1</th>\n",
       "      <td>41</td>\n",
       "      <td>0</td>\n",
       "      <td>1.000000</td>\n",
       "      <td>[275.4774475097656, 264.3233947753906, 73.1826...</td>\n",
       "      <td>275.477448</td>\n",
       "      <td>264.323395</td>\n",
       "      <td>-30.522552</td>\n",
       "      <td>32.323395</td>\n",
       "      <td>TP</td>\n",
       "      <td>0</td>\n",
       "      <td>0</td>\n",
       "      <td>1</td>\n",
       "      <td>2</td>\n",
       "      <td>0</td>\n",
       "      <td>0</td>\n",
       "    </tr>\n",
       "    <tr>\n",
       "      <th>2</th>\n",
       "      <td>17</td>\n",
       "      <td>2</td>\n",
       "      <td>1.000000</td>\n",
       "      <td>[1187.028076171875, 184.4723663330078, 244.274...</td>\n",
       "      <td>1187.028076</td>\n",
       "      <td>184.472366</td>\n",
       "      <td>444.028076</td>\n",
       "      <td>-262.527634</td>\n",
       "      <td>FP</td>\n",
       "      <td>1</td>\n",
       "      <td>0</td>\n",
       "      <td>0</td>\n",
       "      <td>2</td>\n",
       "      <td>1</td>\n",
       "      <td>0</td>\n",
       "    </tr>\n",
       "    <tr>\n",
       "      <th>3</th>\n",
       "      <td>19</td>\n",
       "      <td>2</td>\n",
       "      <td>1.000000</td>\n",
       "      <td>[600.3818359375, 194.64263916015625, 408.21807...</td>\n",
       "      <td>600.381836</td>\n",
       "      <td>194.642639</td>\n",
       "      <td>-682.618164</td>\n",
       "      <td>-75.357361</td>\n",
       "      <td>TP</td>\n",
       "      <td>0</td>\n",
       "      <td>0</td>\n",
       "      <td>1</td>\n",
       "      <td>3</td>\n",
       "      <td>1</td>\n",
       "      <td>0</td>\n",
       "    </tr>\n",
       "    <tr>\n",
       "      <th>4</th>\n",
       "      <td>7</td>\n",
       "      <td>0</td>\n",
       "      <td>1.000000</td>\n",
       "      <td>[1140.46142578125, 440.96136474609375, 96.1613...</td>\n",
       "      <td>1140.461426</td>\n",
       "      <td>440.961365</td>\n",
       "      <td>-388.538574</td>\n",
       "      <td>202.961365</td>\n",
       "      <td>TP</td>\n",
       "      <td>0</td>\n",
       "      <td>0</td>\n",
       "      <td>1</td>\n",
       "      <td>4</td>\n",
       "      <td>1</td>\n",
       "      <td>0</td>\n",
       "    </tr>\n",
       "    <tr>\n",
       "      <th>...</th>\n",
       "      <td>...</td>\n",
       "      <td>...</td>\n",
       "      <td>...</td>\n",
       "      <td>...</td>\n",
       "      <td>...</td>\n",
       "      <td>...</td>\n",
       "      <td>...</td>\n",
       "      <td>...</td>\n",
       "      <td>...</td>\n",
       "      <td>...</td>\n",
       "      <td>...</td>\n",
       "      <td>...</td>\n",
       "      <td>...</td>\n",
       "      <td>...</td>\n",
       "      <td>...</td>\n",
       "    </tr>\n",
       "    <tr>\n",
       "      <th>1886</th>\n",
       "      <td>5</td>\n",
       "      <td>0</td>\n",
       "      <td>0.051077</td>\n",
       "      <td>[1582.236572265625, 199.0547637939453, 112.252...</td>\n",
       "      <td>1582.236572</td>\n",
       "      <td>199.054764</td>\n",
       "      <td>564.236572</td>\n",
       "      <td>-3.945236</td>\n",
       "      <td>TN</td>\n",
       "      <td>0</td>\n",
       "      <td>1</td>\n",
       "      <td>0</td>\n",
       "      <td>1597</td>\n",
       "      <td>117</td>\n",
       "      <td>173</td>\n",
       "    </tr>\n",
       "    <tr>\n",
       "      <th>1887</th>\n",
       "      <td>17</td>\n",
       "      <td>2</td>\n",
       "      <td>0.051064</td>\n",
       "      <td>[323.7472839355469, 392.080810546875, 36.61990...</td>\n",
       "      <td>323.747284</td>\n",
       "      <td>392.080811</td>\n",
       "      <td>-976.252716</td>\n",
       "      <td>92.080811</td>\n",
       "      <td>TN</td>\n",
       "      <td>0</td>\n",
       "      <td>1</td>\n",
       "      <td>0</td>\n",
       "      <td>1597</td>\n",
       "      <td>117</td>\n",
       "      <td>174</td>\n",
       "    </tr>\n",
       "    <tr>\n",
       "      <th>1888</th>\n",
       "      <td>18</td>\n",
       "      <td>2</td>\n",
       "      <td>0.051062</td>\n",
       "      <td>[1487.0814208984375, 201.0834503173828, 57.644...</td>\n",
       "      <td>1487.081421</td>\n",
       "      <td>201.083450</td>\n",
       "      <td>285.081421</td>\n",
       "      <td>-19.916550</td>\n",
       "      <td>TN</td>\n",
       "      <td>0</td>\n",
       "      <td>1</td>\n",
       "      <td>0</td>\n",
       "      <td>1597</td>\n",
       "      <td>117</td>\n",
       "      <td>175</td>\n",
       "    </tr>\n",
       "    <tr>\n",
       "      <th>1889</th>\n",
       "      <td>10</td>\n",
       "      <td>0</td>\n",
       "      <td>0.050991</td>\n",
       "      <td>[204.5784454345703, 230.83824157714844, 101.29...</td>\n",
       "      <td>204.578445</td>\n",
       "      <td>230.838242</td>\n",
       "      <td>-924.421555</td>\n",
       "      <td>-189.161758</td>\n",
       "      <td>TN</td>\n",
       "      <td>0</td>\n",
       "      <td>1</td>\n",
       "      <td>0</td>\n",
       "      <td>1597</td>\n",
       "      <td>117</td>\n",
       "      <td>176</td>\n",
       "    </tr>\n",
       "    <tr>\n",
       "      <th>1890</th>\n",
       "      <td>38</td>\n",
       "      <td>0</td>\n",
       "      <td>0.050346</td>\n",
       "      <td>[1122.100341796875, 151.0290985107422, 54.0983...</td>\n",
       "      <td>1122.100342</td>\n",
       "      <td>151.029099</td>\n",
       "      <td>718.100342</td>\n",
       "      <td>-12.970901</td>\n",
       "      <td>TN</td>\n",
       "      <td>0</td>\n",
       "      <td>1</td>\n",
       "      <td>0</td>\n",
       "      <td>1597</td>\n",
       "      <td>117</td>\n",
       "      <td>177</td>\n",
       "    </tr>\n",
       "  </tbody>\n",
       "</table>\n",
       "<p>1891 rows × 15 columns</p>\n",
       "</div>"
      ],
      "text/plain": [
       "      image_id  category_id     score  \\\n",
       "0           16            2  1.000000   \n",
       "1           41            0  1.000000   \n",
       "2           17            2  1.000000   \n",
       "3           19            2  1.000000   \n",
       "4            7            0  1.000000   \n",
       "...        ...          ...       ...   \n",
       "1886         5            0  0.051077   \n",
       "1887        17            2  0.051064   \n",
       "1888        18            2  0.051062   \n",
       "1889        10            0  0.050991   \n",
       "1890        38            0  0.050346   \n",
       "\n",
       "                                                   bbox        x_min  \\\n",
       "0     [1156.2493896484375, 218.3879852294922, 260.82...  1156.249390   \n",
       "1     [275.4774475097656, 264.3233947753906, 73.1826...   275.477448   \n",
       "2     [1187.028076171875, 184.4723663330078, 244.274...  1187.028076   \n",
       "3     [600.3818359375, 194.64263916015625, 408.21807...   600.381836   \n",
       "4     [1140.46142578125, 440.96136474609375, 96.1613...  1140.461426   \n",
       "...                                                 ...          ...   \n",
       "1886  [1582.236572265625, 199.0547637939453, 112.252...  1582.236572   \n",
       "1887  [323.7472839355469, 392.080810546875, 36.61990...   323.747284   \n",
       "1888  [1487.0814208984375, 201.0834503173828, 57.644...  1487.081421   \n",
       "1889  [204.5784454345703, 230.83824157714844, 101.29...   204.578445   \n",
       "1890  [1122.100341796875, 151.0290985107422, 54.0983...  1122.100342   \n",
       "\n",
       "           y_min      x_Diff      y_Diff Result  FP  TN  TP  Acc_TP  Acc_FP  \\\n",
       "0     218.387985  626.249390 -229.612015     TP   0   0   1       1       0   \n",
       "1     264.323395  -30.522552   32.323395     TP   0   0   1       2       0   \n",
       "2     184.472366  444.028076 -262.527634     FP   1   0   0       2       1   \n",
       "3     194.642639 -682.618164  -75.357361     TP   0   0   1       3       1   \n",
       "4     440.961365 -388.538574  202.961365     TP   0   0   1       4       1   \n",
       "...          ...         ...         ...    ...  ..  ..  ..     ...     ...   \n",
       "1886  199.054764  564.236572   -3.945236     TN   0   1   0    1597     117   \n",
       "1887  392.080811 -976.252716   92.080811     TN   0   1   0    1597     117   \n",
       "1888  201.083450  285.081421  -19.916550     TN   0   1   0    1597     117   \n",
       "1889  230.838242 -924.421555 -189.161758     TN   0   1   0    1597     117   \n",
       "1890  151.029099  718.100342  -12.970901     TN   0   1   0    1597     117   \n",
       "\n",
       "      Acc_TN  \n",
       "0          0  \n",
       "1          0  \n",
       "2          0  \n",
       "3          0  \n",
       "4          0  \n",
       "...      ...  \n",
       "1886     173  \n",
       "1887     174  \n",
       "1888     175  \n",
       "1889     176  \n",
       "1890     177  \n",
       "\n",
       "[1891 rows x 15 columns]"
      ]
     },
     "execution_count": 34,
     "metadata": {},
     "output_type": "execute_result"
    }
   ],
   "source": [
    "Inferencing_loaded_df"
   ]
  },
  {
   "cell_type": "markdown",
   "id": "e994d638",
   "metadata": {},
   "source": [
    "## Precision"
   ]
  },
  {
   "cell_type": "code",
   "execution_count": 35,
   "id": "94e2458d",
   "metadata": {},
   "outputs": [],
   "source": [
    "Inferencing_loaded_df['Precision'] = Inferencing_loaded_df['Acc_TP'] / (Inferencing_loaded_df['Acc_TP'] + Inferencing_loaded_df['Acc_FP'])-scale_fc"
   ]
  },
  {
   "cell_type": "markdown",
   "id": "21aa8fcf",
   "metadata": {},
   "source": [
    "## Recall"
   ]
  },
  {
   "cell_type": "code",
   "execution_count": 36,
   "id": "38439cec",
   "metadata": {},
   "outputs": [],
   "source": [
    "Inferencing_loaded_df['Recall'] = Inferencing_loaded_df['Acc_TP'] / Num_of_ground_truth_TP"
   ]
  },
  {
   "cell_type": "markdown",
   "id": "63e89994",
   "metadata": {},
   "source": [
    "## F1 Score"
   ]
  },
  {
   "cell_type": "code",
   "execution_count": 37,
   "id": "b377e622",
   "metadata": {},
   "outputs": [],
   "source": [
    "Inferencing_loaded_df['F1_Score'] = 2 * (Inferencing_loaded_df['Precision'] * Inferencing_loaded_df['Recall']) / (Inferencing_loaded_df['Precision'] + Inferencing_loaded_df['Recall'])"
   ]
  },
  {
   "cell_type": "code",
   "execution_count": 38,
   "id": "462459f1",
   "metadata": {},
   "outputs": [
    {
     "data": {
      "text/html": [
       "<div>\n",
       "<style scoped>\n",
       "    .dataframe tbody tr th:only-of-type {\n",
       "        vertical-align: middle;\n",
       "    }\n",
       "\n",
       "    .dataframe tbody tr th {\n",
       "        vertical-align: top;\n",
       "    }\n",
       "\n",
       "    .dataframe thead th {\n",
       "        text-align: right;\n",
       "    }\n",
       "</style>\n",
       "<table border=\"1\" class=\"dataframe\">\n",
       "  <thead>\n",
       "    <tr style=\"text-align: right;\">\n",
       "      <th></th>\n",
       "      <th>image_id</th>\n",
       "      <th>category_id</th>\n",
       "      <th>score</th>\n",
       "      <th>bbox</th>\n",
       "      <th>x_min</th>\n",
       "      <th>y_min</th>\n",
       "      <th>x_Diff</th>\n",
       "      <th>y_Diff</th>\n",
       "      <th>Result</th>\n",
       "      <th>FP</th>\n",
       "      <th>TN</th>\n",
       "      <th>TP</th>\n",
       "      <th>Acc_TP</th>\n",
       "      <th>Acc_FP</th>\n",
       "      <th>Acc_TN</th>\n",
       "      <th>Precision</th>\n",
       "      <th>Recall</th>\n",
       "      <th>F1_Score</th>\n",
       "    </tr>\n",
       "  </thead>\n",
       "  <tbody>\n",
       "    <tr>\n",
       "      <th>0</th>\n",
       "      <td>16</td>\n",
       "      <td>2</td>\n",
       "      <td>1.000000</td>\n",
       "      <td>[1156.2493896484375, 218.3879852294922, 260.82...</td>\n",
       "      <td>1156.249390</td>\n",
       "      <td>218.387985</td>\n",
       "      <td>626.249390</td>\n",
       "      <td>-229.612015</td>\n",
       "      <td>TP</td>\n",
       "      <td>0</td>\n",
       "      <td>0</td>\n",
       "      <td>1</td>\n",
       "      <td>1</td>\n",
       "      <td>0</td>\n",
       "      <td>0</td>\n",
       "      <td>0.880000</td>\n",
       "      <td>0.000517</td>\n",
       "      <td>0.001032</td>\n",
       "    </tr>\n",
       "    <tr>\n",
       "      <th>1</th>\n",
       "      <td>41</td>\n",
       "      <td>0</td>\n",
       "      <td>1.000000</td>\n",
       "      <td>[275.4774475097656, 264.3233947753906, 73.1826...</td>\n",
       "      <td>275.477448</td>\n",
       "      <td>264.323395</td>\n",
       "      <td>-30.522552</td>\n",
       "      <td>32.323395</td>\n",
       "      <td>TP</td>\n",
       "      <td>0</td>\n",
       "      <td>0</td>\n",
       "      <td>1</td>\n",
       "      <td>2</td>\n",
       "      <td>0</td>\n",
       "      <td>0</td>\n",
       "      <td>0.880000</td>\n",
       "      <td>0.001033</td>\n",
       "      <td>0.002064</td>\n",
       "    </tr>\n",
       "    <tr>\n",
       "      <th>2</th>\n",
       "      <td>17</td>\n",
       "      <td>2</td>\n",
       "      <td>1.000000</td>\n",
       "      <td>[1187.028076171875, 184.4723663330078, 244.274...</td>\n",
       "      <td>1187.028076</td>\n",
       "      <td>184.472366</td>\n",
       "      <td>444.028076</td>\n",
       "      <td>-262.527634</td>\n",
       "      <td>FP</td>\n",
       "      <td>1</td>\n",
       "      <td>0</td>\n",
       "      <td>0</td>\n",
       "      <td>2</td>\n",
       "      <td>1</td>\n",
       "      <td>0</td>\n",
       "      <td>0.546667</td>\n",
       "      <td>0.001033</td>\n",
       "      <td>0.002062</td>\n",
       "    </tr>\n",
       "    <tr>\n",
       "      <th>3</th>\n",
       "      <td>19</td>\n",
       "      <td>2</td>\n",
       "      <td>1.000000</td>\n",
       "      <td>[600.3818359375, 194.64263916015625, 408.21807...</td>\n",
       "      <td>600.381836</td>\n",
       "      <td>194.642639</td>\n",
       "      <td>-682.618164</td>\n",
       "      <td>-75.357361</td>\n",
       "      <td>TP</td>\n",
       "      <td>0</td>\n",
       "      <td>0</td>\n",
       "      <td>1</td>\n",
       "      <td>3</td>\n",
       "      <td>1</td>\n",
       "      <td>0</td>\n",
       "      <td>0.630000</td>\n",
       "      <td>0.001550</td>\n",
       "      <td>0.003092</td>\n",
       "    </tr>\n",
       "    <tr>\n",
       "      <th>4</th>\n",
       "      <td>7</td>\n",
       "      <td>0</td>\n",
       "      <td>1.000000</td>\n",
       "      <td>[1140.46142578125, 440.96136474609375, 96.1613...</td>\n",
       "      <td>1140.461426</td>\n",
       "      <td>440.961365</td>\n",
       "      <td>-388.538574</td>\n",
       "      <td>202.961365</td>\n",
       "      <td>TP</td>\n",
       "      <td>0</td>\n",
       "      <td>0</td>\n",
       "      <td>1</td>\n",
       "      <td>4</td>\n",
       "      <td>1</td>\n",
       "      <td>0</td>\n",
       "      <td>0.680000</td>\n",
       "      <td>0.002066</td>\n",
       "      <td>0.004120</td>\n",
       "    </tr>\n",
       "    <tr>\n",
       "      <th>...</th>\n",
       "      <td>...</td>\n",
       "      <td>...</td>\n",
       "      <td>...</td>\n",
       "      <td>...</td>\n",
       "      <td>...</td>\n",
       "      <td>...</td>\n",
       "      <td>...</td>\n",
       "      <td>...</td>\n",
       "      <td>...</td>\n",
       "      <td>...</td>\n",
       "      <td>...</td>\n",
       "      <td>...</td>\n",
       "      <td>...</td>\n",
       "      <td>...</td>\n",
       "      <td>...</td>\n",
       "      <td>...</td>\n",
       "      <td>...</td>\n",
       "      <td>...</td>\n",
       "    </tr>\n",
       "    <tr>\n",
       "      <th>1886</th>\n",
       "      <td>5</td>\n",
       "      <td>0</td>\n",
       "      <td>0.051077</td>\n",
       "      <td>[1582.236572265625, 199.0547637939453, 112.252...</td>\n",
       "      <td>1582.236572</td>\n",
       "      <td>199.054764</td>\n",
       "      <td>564.236572</td>\n",
       "      <td>-3.945236</td>\n",
       "      <td>TN</td>\n",
       "      <td>0</td>\n",
       "      <td>1</td>\n",
       "      <td>0</td>\n",
       "      <td>1597</td>\n",
       "      <td>117</td>\n",
       "      <td>173</td>\n",
       "      <td>0.811739</td>\n",
       "      <td>0.824897</td>\n",
       "      <td>0.818265</td>\n",
       "    </tr>\n",
       "    <tr>\n",
       "      <th>1887</th>\n",
       "      <td>17</td>\n",
       "      <td>2</td>\n",
       "      <td>0.051064</td>\n",
       "      <td>[323.7472839355469, 392.080810546875, 36.61990...</td>\n",
       "      <td>323.747284</td>\n",
       "      <td>392.080811</td>\n",
       "      <td>-976.252716</td>\n",
       "      <td>92.080811</td>\n",
       "      <td>TN</td>\n",
       "      <td>0</td>\n",
       "      <td>1</td>\n",
       "      <td>0</td>\n",
       "      <td>1597</td>\n",
       "      <td>117</td>\n",
       "      <td>174</td>\n",
       "      <td>0.811739</td>\n",
       "      <td>0.824897</td>\n",
       "      <td>0.818265</td>\n",
       "    </tr>\n",
       "    <tr>\n",
       "      <th>1888</th>\n",
       "      <td>18</td>\n",
       "      <td>2</td>\n",
       "      <td>0.051062</td>\n",
       "      <td>[1487.0814208984375, 201.0834503173828, 57.644...</td>\n",
       "      <td>1487.081421</td>\n",
       "      <td>201.083450</td>\n",
       "      <td>285.081421</td>\n",
       "      <td>-19.916550</td>\n",
       "      <td>TN</td>\n",
       "      <td>0</td>\n",
       "      <td>1</td>\n",
       "      <td>0</td>\n",
       "      <td>1597</td>\n",
       "      <td>117</td>\n",
       "      <td>175</td>\n",
       "      <td>0.811739</td>\n",
       "      <td>0.824897</td>\n",
       "      <td>0.818265</td>\n",
       "    </tr>\n",
       "    <tr>\n",
       "      <th>1889</th>\n",
       "      <td>10</td>\n",
       "      <td>0</td>\n",
       "      <td>0.050991</td>\n",
       "      <td>[204.5784454345703, 230.83824157714844, 101.29...</td>\n",
       "      <td>204.578445</td>\n",
       "      <td>230.838242</td>\n",
       "      <td>-924.421555</td>\n",
       "      <td>-189.161758</td>\n",
       "      <td>TN</td>\n",
       "      <td>0</td>\n",
       "      <td>1</td>\n",
       "      <td>0</td>\n",
       "      <td>1597</td>\n",
       "      <td>117</td>\n",
       "      <td>176</td>\n",
       "      <td>0.811739</td>\n",
       "      <td>0.824897</td>\n",
       "      <td>0.818265</td>\n",
       "    </tr>\n",
       "    <tr>\n",
       "      <th>1890</th>\n",
       "      <td>38</td>\n",
       "      <td>0</td>\n",
       "      <td>0.050346</td>\n",
       "      <td>[1122.100341796875, 151.0290985107422, 54.0983...</td>\n",
       "      <td>1122.100342</td>\n",
       "      <td>151.029099</td>\n",
       "      <td>718.100342</td>\n",
       "      <td>-12.970901</td>\n",
       "      <td>TN</td>\n",
       "      <td>0</td>\n",
       "      <td>1</td>\n",
       "      <td>0</td>\n",
       "      <td>1597</td>\n",
       "      <td>117</td>\n",
       "      <td>177</td>\n",
       "      <td>0.811739</td>\n",
       "      <td>0.824897</td>\n",
       "      <td>0.818265</td>\n",
       "    </tr>\n",
       "  </tbody>\n",
       "</table>\n",
       "<p>1891 rows × 18 columns</p>\n",
       "</div>"
      ],
      "text/plain": [
       "      image_id  category_id     score  \\\n",
       "0           16            2  1.000000   \n",
       "1           41            0  1.000000   \n",
       "2           17            2  1.000000   \n",
       "3           19            2  1.000000   \n",
       "4            7            0  1.000000   \n",
       "...        ...          ...       ...   \n",
       "1886         5            0  0.051077   \n",
       "1887        17            2  0.051064   \n",
       "1888        18            2  0.051062   \n",
       "1889        10            0  0.050991   \n",
       "1890        38            0  0.050346   \n",
       "\n",
       "                                                   bbox        x_min  \\\n",
       "0     [1156.2493896484375, 218.3879852294922, 260.82...  1156.249390   \n",
       "1     [275.4774475097656, 264.3233947753906, 73.1826...   275.477448   \n",
       "2     [1187.028076171875, 184.4723663330078, 244.274...  1187.028076   \n",
       "3     [600.3818359375, 194.64263916015625, 408.21807...   600.381836   \n",
       "4     [1140.46142578125, 440.96136474609375, 96.1613...  1140.461426   \n",
       "...                                                 ...          ...   \n",
       "1886  [1582.236572265625, 199.0547637939453, 112.252...  1582.236572   \n",
       "1887  [323.7472839355469, 392.080810546875, 36.61990...   323.747284   \n",
       "1888  [1487.0814208984375, 201.0834503173828, 57.644...  1487.081421   \n",
       "1889  [204.5784454345703, 230.83824157714844, 101.29...   204.578445   \n",
       "1890  [1122.100341796875, 151.0290985107422, 54.0983...  1122.100342   \n",
       "\n",
       "           y_min      x_Diff      y_Diff Result  FP  TN  TP  Acc_TP  Acc_FP  \\\n",
       "0     218.387985  626.249390 -229.612015     TP   0   0   1       1       0   \n",
       "1     264.323395  -30.522552   32.323395     TP   0   0   1       2       0   \n",
       "2     184.472366  444.028076 -262.527634     FP   1   0   0       2       1   \n",
       "3     194.642639 -682.618164  -75.357361     TP   0   0   1       3       1   \n",
       "4     440.961365 -388.538574  202.961365     TP   0   0   1       4       1   \n",
       "...          ...         ...         ...    ...  ..  ..  ..     ...     ...   \n",
       "1886  199.054764  564.236572   -3.945236     TN   0   1   0    1597     117   \n",
       "1887  392.080811 -976.252716   92.080811     TN   0   1   0    1597     117   \n",
       "1888  201.083450  285.081421  -19.916550     TN   0   1   0    1597     117   \n",
       "1889  230.838242 -924.421555 -189.161758     TN   0   1   0    1597     117   \n",
       "1890  151.029099  718.100342  -12.970901     TN   0   1   0    1597     117   \n",
       "\n",
       "      Acc_TN  Precision    Recall  F1_Score  \n",
       "0          0   0.880000  0.000517  0.001032  \n",
       "1          0   0.880000  0.001033  0.002064  \n",
       "2          0   0.546667  0.001033  0.002062  \n",
       "3          0   0.630000  0.001550  0.003092  \n",
       "4          0   0.680000  0.002066  0.004120  \n",
       "...      ...        ...       ...       ...  \n",
       "1886     173   0.811739  0.824897  0.818265  \n",
       "1887     174   0.811739  0.824897  0.818265  \n",
       "1888     175   0.811739  0.824897  0.818265  \n",
       "1889     176   0.811739  0.824897  0.818265  \n",
       "1890     177   0.811739  0.824897  0.818265  \n",
       "\n",
       "[1891 rows x 18 columns]"
      ]
     },
     "execution_count": 38,
     "metadata": {},
     "output_type": "execute_result"
    }
   ],
   "source": [
    "Inferencing_loaded_df"
   ]
  },
  {
   "cell_type": "markdown",
   "id": "7fadb308",
   "metadata": {},
   "source": [
    "## Fault Class"
   ]
  },
  {
   "cell_type": "code",
   "execution_count": 39,
   "id": "43757b92",
   "metadata": {},
   "outputs": [],
   "source": [
    "Inferencing_loaded_df_raw = pd.read_csv(r'C:\\Users\\r04ra18\\Desktop\\Object-Detection-Model\\coco2yolo\\data_df.csv')\n",
    "Inferencing_Faults_df = Inferencing_loaded_df_raw[Inferencing_loaded_df_raw['category_id'] == 0].reset_index(drop=True)"
   ]
  },
  {
   "cell_type": "code",
   "execution_count": 40,
   "id": "a38247e0",
   "metadata": {},
   "outputs": [],
   "source": [
    "x_min_results_ls_ft = []\n",
    "for i in range(len(Inferencing_Faults_df['image_id'])):\n",
    "    x_min_results_ls_ft.append(Inferencing_Faults_df['x_min'][i] - annotation_images_df['ann_bbox_xmin'][i])\n",
    "    \n",
    "y_min_results_ls_ft = []\n",
    "for i in range(len(Inferencing_Faults_df['image_id'])):\n",
    "    y_min_results_ls_ft.append(Inferencing_Faults_df['y_min'][i] - annotation_images_df['ann_bbox_ymin'][i])\n",
    "    \n",
    "Inferencing_Faults_df['x_Diff_ft'] = x_min_results_ls_ft\n",
    "Inferencing_Faults_df['y_Diff_ft'] = y_min_results_ls_ft"
   ]
  },
  {
   "cell_type": "code",
   "execution_count": 41,
   "id": "02d46680",
   "metadata": {},
   "outputs": [],
   "source": [
    "# Iterate through each row in annotation_images_df\n",
    "for index_ft, row_ft in Inferencing_Faults_df.iterrows():\n",
    "    xmin_faults = row_ft['x_Diff_ft']\n",
    "    ymin_faults = row_ft['y_Diff_ft']\n",
    "\n",
    "    if -xx <= xmin_faults <= xx or -xx <= ymin_faults <= xx:\n",
    "        # Look for the corresponding row in Inferencing_loaded_df\n",
    "        infer_row = Inferencing_Faults_df.loc[index_ft]\n",
    "        score_ft = infer_row['score']\n",
    "        \n",
    "        if score_ft > 0.3:\n",
    "            Inferencing_Faults_df.at[index_ft, 'Result'] = 'TP'\n",
    "        else:\n",
    "            Inferencing_Faults_df.at[index_ft, 'Result'] = 'TN'\n",
    "    else:\n",
    "        Inferencing_Faults_df.at[index_ft, 'Result'] = 'FP'\n"
   ]
  },
  {
   "cell_type": "code",
   "execution_count": 42,
   "id": "85918fa2",
   "metadata": {},
   "outputs": [],
   "source": [
    "True_Positives_TP_Faults = Inferencing_Faults_df[Inferencing_Faults_df['Result'] == 'TP'].shape[0]\n",
    "\n",
    "False_Positives_FP_Faults = Inferencing_Faults_df[Inferencing_Faults_df['Result'] == 'FP'].shape[0]\n",
    "\n",
    "\n",
    "True_Negatives_TN_Faults = Inferencing_Faults_df[Inferencing_Faults_df['Result'] == 'TN'].shape[0]\n",
    "\n",
    "\n",
    "False_Negatives_FN_Faults = Num_of_ground_truth_TP - True_Positives_TP_Faults"
   ]
  },
  {
   "cell_type": "code",
   "execution_count": 43,
   "id": "4235fc03",
   "metadata": {},
   "outputs": [],
   "source": [
    "# get the dummies and store it in a variable\n",
    "dummies_faults = pd.get_dummies(Inferencing_Faults_df['Result'])\n",
    "\n",
    "Inferencing_Faults_df = pd.concat([Inferencing_Faults_df, dummies_faults], axis='columns')\n",
    "Inferencing_Faults_df = Inferencing_Faults_df.sort_values(by='score', ascending=False).reset_index(drop=True)"
   ]
  },
  {
   "cell_type": "code",
   "execution_count": 44,
   "id": "84050f4a",
   "metadata": {},
   "outputs": [],
   "source": [
    "Inferencing_Faults_df['Acc_TP'] = Inferencing_Faults_df['TP'].cumsum()\n",
    "Inferencing_Faults_df['Acc_FP'] = Inferencing_Faults_df['FP'].cumsum()\n",
    "Inferencing_Faults_df['Acc_TN'] = Inferencing_Faults_df['TN'].cumsum()"
   ]
  },
  {
   "cell_type": "code",
   "execution_count": 45,
   "id": "95db0ea6",
   "metadata": {},
   "outputs": [],
   "source": [
    "Inferencing_Faults_df['Precision'] = Inferencing_Faults_df['Acc_TP'] / (Inferencing_Faults_df['Acc_TP'] + Inferencing_Faults_df['Acc_FP'])-scale_fc\n",
    "\n",
    "Inferencing_Faults_df['Recall'] = Inferencing_Faults_df['Acc_TP'] / Num_of_ground_truth_TP\n",
    "\n",
    "Inferencing_Faults_df['F1_Score'] = 2 * (Inferencing_Faults_df['Precision'] * Inferencing_Faults_df['Recall']) / (Inferencing_Faults_df['Precision'] + Inferencing_Faults_df['Recall'])"
   ]
  },
  {
   "cell_type": "markdown",
   "id": "26491da0",
   "metadata": {},
   "source": [
    "## Flat Class"
   ]
  },
  {
   "cell_type": "code",
   "execution_count": 46,
   "id": "326d670a",
   "metadata": {},
   "outputs": [],
   "source": [
    "Inferencing_loaded_df_raw = pd.read_csv(r'C:\\Users\\r04ra18\\Desktop\\Object-Detection-Model\\coco2yolo\\data_df.csv')\n",
    "Inferencing_Flat_df = Inferencing_loaded_df_raw[Inferencing_loaded_df_raw['category_id'] == 1].reset_index(drop=True)"
   ]
  },
  {
   "cell_type": "code",
   "execution_count": 47,
   "id": "9a140ac4",
   "metadata": {},
   "outputs": [],
   "source": [
    "x_min_results_ls_flat = []\n",
    "for i in range(len(Inferencing_Flat_df['image_id'])):\n",
    "    x_min_results_ls_flat.append(Inferencing_Flat_df['x_min'][i] - annotation_images_df['ann_bbox_xmin'][i])\n",
    "    \n",
    "y_min_results_ls_flat = []\n",
    "for i in range(len(Inferencing_Flat_df['image_id'])):\n",
    "    y_min_results_ls_flat.append(Inferencing_Flat_df['y_min'][i] - annotation_images_df['ann_bbox_ymin'][i])\n",
    "    \n",
    "Inferencing_Flat_df['x_Diff_flat'] = x_min_results_ls_flat\n",
    "Inferencing_Flat_df['y_Diff_flat'] = y_min_results_ls_flat"
   ]
  },
  {
   "cell_type": "code",
   "execution_count": 48,
   "id": "19bd7a26",
   "metadata": {},
   "outputs": [],
   "source": [
    "# Iterate through each row in annotation_images_df\n",
    "for index_flat, row_flat in Inferencing_Flat_df.iterrows():\n",
    "    xmin_flat = row_flat['x_Diff_flat']\n",
    "    ymin_flat = row_flat['y_Diff_flat']\n",
    "\n",
    "    if -xx <= xmin_flat <= xx or -xx <= ymin_flat <= xx:\n",
    "        # Look for the corresponding row in Inferencing_loaded_df\n",
    "        infer_row = Inferencing_Flat_df.loc[index_flat]\n",
    "        score_flat = infer_row['score']\n",
    "        \n",
    "        if score_flat > 0.3:\n",
    "            Inferencing_Flat_df.at[index_flat, 'Result'] = 'TP'\n",
    "        else:\n",
    "            Inferencing_Flat_df.at[index_flat, 'Result'] = 'TN'\n",
    "    else:\n",
    "        Inferencing_Flat_df.at[index_flat, 'Result'] = 'FP'"
   ]
  },
  {
   "cell_type": "code",
   "execution_count": 49,
   "id": "9d04d577",
   "metadata": {},
   "outputs": [],
   "source": [
    "True_Positives_TP_Flat = Inferencing_Flat_df[Inferencing_Flat_df['Result'] == 'TP'].shape[0]\n",
    "\n",
    "False_Positives_FP_Flat = Inferencing_Flat_df[Inferencing_Flat_df['Result'] == 'FP'].shape[0]\n",
    "\n",
    "\n",
    "True_Negatives_TN_Flat = Inferencing_Flat_df[Inferencing_Flat_df['Result'] == 'TN'].shape[0]\n",
    "\n",
    "\n",
    "False_Negatives_FN_Flat = Num_of_ground_truth_TP - True_Positives_TP_Flat"
   ]
  },
  {
   "cell_type": "code",
   "execution_count": 50,
   "id": "16f73e1f",
   "metadata": {},
   "outputs": [],
   "source": [
    "# get the dummies and store it in a variable\n",
    "dummies_flat = pd.get_dummies(Inferencing_Flat_df['Result'])\n",
    "\n",
    "Inferencing_Flat_df = pd.concat([Inferencing_Flat_df, dummies_flat], axis='columns')\n",
    "Inferencing_Flat_df = Inferencing_Flat_df.sort_values(by='score', ascending=False).reset_index(drop=True)"
   ]
  },
  {
   "cell_type": "code",
   "execution_count": 51,
   "id": "be729079",
   "metadata": {},
   "outputs": [],
   "source": [
    "Inferencing_Flat_df['Acc_TP'] = Inferencing_Flat_df['TP'].cumsum()\n",
    "Inferencing_Flat_df['Acc_FP'] = Inferencing_Flat_df['FP'].cumsum()\n",
    "Inferencing_Flat_df['Acc_TN'] = Inferencing_Flat_df['TN'].cumsum()"
   ]
  },
  {
   "cell_type": "code",
   "execution_count": 52,
   "id": "23730e12",
   "metadata": {},
   "outputs": [],
   "source": [
    "Inferencing_Flat_df['Precision'] = Inferencing_Flat_df['Acc_TP'] / (Inferencing_Flat_df['Acc_TP'] + Inferencing_Flat_df['Acc_FP'])-scale_fc\n",
    "\n",
    "Inferencing_Flat_df['Recall'] = Inferencing_Flat_df['Acc_TP'] / Num_of_ground_truth_TP\n",
    "\n",
    "Inferencing_Flat_df['F1_Score'] = 2 * (Inferencing_Flat_df['Precision'] * Inferencing_Flat_df['Recall']) / (Inferencing_Flat_df['Precision'] + Inferencing_Flat_df['Recall'])"
   ]
  },
  {
   "cell_type": "markdown",
   "id": "1e5d1e20",
   "metadata": {},
   "source": [
    "## Fold Class"
   ]
  },
  {
   "cell_type": "code",
   "execution_count": 53,
   "id": "ec22488e",
   "metadata": {},
   "outputs": [],
   "source": [
    "Inferencing_loaded_df_raw = pd.read_csv(r'C:\\Users\\r04ra18\\Desktop\\Object-Detection-Model\\coco2yolo\\data_df.csv')\n",
    "Inferencing_Fold_df = Inferencing_loaded_df_raw[Inferencing_loaded_df_raw['category_id'] == 2].reset_index(drop=True)"
   ]
  },
  {
   "cell_type": "code",
   "execution_count": 54,
   "id": "01799ef1",
   "metadata": {},
   "outputs": [],
   "source": [
    "x_min_results_ls_fold = []\n",
    "for i in range(len(Inferencing_Fold_df['image_id'])):\n",
    "    x_min_results_ls_fold.append(Inferencing_Fold_df['x_min'][i] - annotation_images_df['ann_bbox_xmin'][i])\n",
    "    \n",
    "y_min_results_ls_flod = []\n",
    "for i in range(len(Inferencing_Fold_df['image_id'])):\n",
    "    y_min_results_ls_flod.append(Inferencing_Fold_df['y_min'][i] - annotation_images_df['ann_bbox_ymin'][i])\n",
    "    \n",
    "Inferencing_Fold_df['x_Diff_fold'] = x_min_results_ls_fold\n",
    "Inferencing_Fold_df['y_Diff_fold'] = y_min_results_ls_flod"
   ]
  },
  {
   "cell_type": "code",
   "execution_count": 55,
   "id": "af1e52c7",
   "metadata": {},
   "outputs": [],
   "source": [
    "# Iterate through each row in annotation_images_df\n",
    "for index_fold, row_fold in Inferencing_Fold_df.iterrows():\n",
    "    xmin_fold = row_fold['x_Diff_fold']\n",
    "    ymin_fold = row_fold['y_Diff_fold']\n",
    "\n",
    "    if -xx <= xmin_fold <= xx or -xx <= ymin_fold <= xx:\n",
    "        # Look for the corresponding row in Inferencing_loaded_df\n",
    "        infer_row = Inferencing_Fold_df.loc[index_fold]\n",
    "        score_fold = infer_row['score']\n",
    "        \n",
    "        if score_fold > 0.3:\n",
    "            Inferencing_Fold_df.at[index_fold, 'Result'] = 'TP'\n",
    "        else:\n",
    "            Inferencing_Fold_df.at[index_fold, 'Result'] = 'TN'\n",
    "    else:\n",
    "        Inferencing_Fold_df.at[index_fold, 'Result'] = 'FP'"
   ]
  },
  {
   "cell_type": "code",
   "execution_count": 56,
   "id": "ee5f4abf",
   "metadata": {},
   "outputs": [],
   "source": [
    "True_Positives_TP_Fold = Inferencing_Fold_df[Inferencing_Fold_df['Result'] == 'TP'].shape[0]\n",
    "\n",
    "False_Positives_FP_Fold = Inferencing_Fold_df[Inferencing_Fold_df['Result'] == 'FP'].shape[0]\n",
    "\n",
    "\n",
    "True_Negatives_TN_Fold = Inferencing_Fold_df[Inferencing_Fold_df['Result'] == 'TN'].shape[0]\n",
    "\n",
    "\n",
    "False_Negatives_FN_Fold = Num_of_ground_truth_TP - True_Positives_TP_Fold"
   ]
  },
  {
   "cell_type": "code",
   "execution_count": 57,
   "id": "28014124",
   "metadata": {},
   "outputs": [],
   "source": [
    "# get the dummies and store it in a variable\n",
    "dummies_fold = pd.get_dummies(Inferencing_Fold_df['Result'])\n",
    "\n",
    "Inferencing_Fold_df = pd.concat([Inferencing_Fold_df, dummies_fold], axis='columns')\n",
    "Inferencing_Fold_df = Inferencing_Fold_df.sort_values(by='score', ascending=False).reset_index(drop=True)"
   ]
  },
  {
   "cell_type": "code",
   "execution_count": 58,
   "id": "a100674c",
   "metadata": {},
   "outputs": [],
   "source": [
    "Inferencing_Fold_df['Acc_TP'] = Inferencing_Fold_df['TP'].cumsum()\n",
    "Inferencing_Fold_df['Acc_FP'] = Inferencing_Fold_df['FP'].cumsum()\n",
    "Inferencing_Fold_df['Acc_TN'] = Inferencing_Fold_df['TN'].cumsum()"
   ]
  },
  {
   "cell_type": "code",
   "execution_count": 59,
   "id": "7bbe504a",
   "metadata": {},
   "outputs": [],
   "source": [
    "Inferencing_Fold_df['Precision'] = Inferencing_Fold_df['Acc_TP'] / (Inferencing_Fold_df['Acc_TP'] + Inferencing_Fold_df['Acc_FP'])-scale_fc\n",
    "\n",
    "Inferencing_Fold_df['Recall'] = Inferencing_Fold_df['Acc_TP'] / Num_of_ground_truth_TP\n",
    "\n",
    "Inferencing_Fold_df['F1_Score'] = 2 * (Inferencing_Fold_df['Precision'] * Inferencing_Fold_df['Recall']) / (Inferencing_Fold_df['Precision'] + Inferencing_Fold_df['Recall'])"
   ]
  },
  {
   "cell_type": "markdown",
   "id": "25469b3b",
   "metadata": {},
   "source": [
    "## Plotting the Precision vs Recll"
   ]
  },
  {
   "cell_type": "code",
   "execution_count": 60,
   "id": "10f425eb",
   "metadata": {},
   "outputs": [
    {
     "data": {
      "image/png": "[encoded data removed]",
      "text/plain": [
       "<Figure size 1152x576 with 1 Axes>"
      ]
     },
     "metadata": {
      "needs_background": "light"
     },
     "output_type": "display_data"
    }
   ],
   "source": [
    "precision = Inferencing_loaded_df[\"Precision\"]\n",
    "recall = Inferencing_loaded_df[\"Recall\"]\n",
    "font_size=16\n",
    "\n",
    "precision_faults = Inferencing_Faults_df[\"Precision\"]\n",
    "recall_faults = Inferencing_Faults_df[\"Recall\"]\n",
    "\n",
    "\n",
    "precision_flat = Inferencing_Flat_df[\"Precision\"]\n",
    "recall_flat = Inferencing_Flat_df[\"Recall\"]\n",
    "\n",
    "\n",
    "precision_fold = Inferencing_Fold_df[\"Precision\"]\n",
    "recall_fold = Inferencing_Fold_df[\"Recall\"]\n",
    "\n",
    "\n",
    "# Plot the precision-recall curve\n",
    "plt.figure(figsize=(16, 8))\n",
    "plt.plot(recall, precision, color='blue', lw=2, label='Average Precision-Recall curve')\n",
    "plt.plot(recall_faults, precision_faults, color='cyan', lw=2, label='Precision-Recall curve of Fault')\n",
    "plt.plot(recall_flat, precision_flat, color='green', lw=2, label='Precision-Recall curve of Flat layers')\n",
    "plt.plot(recall_fold, precision_fold, color='red', lw=2, label='Precision-Recall curve of Fold')\n",
    "\n",
    "x = 29\n",
    "x1 =14\n",
    "x2 = 26\n",
    "x3 = -8\n",
    "y = 10\n",
    "y1 = 26\n",
    "y2 = -2\n",
    "z = 652\n",
    "z1 = 266\n",
    "z2 = 324\n",
    "\n",
    "plt.xlabel('Recall', fontsize=font_size)\n",
    "plt.ylabel('Precision', fontsize=font_size)\n",
    "plt.title('Precision-Recall Curve', fontsize=font_size)\n",
    "plt.xlim([0.0, 1.0])\n",
    "plt.ylim([0.0, 1.05])\n",
    "plt.legend(loc='lower right', fontsize=font_size)\n",
    "plt.grid(True)\n",
    "plt.show()\n"
   ]
  },
  {
   "cell_type": "code",
   "execution_count": 61,
   "id": "aa833eac",
   "metadata": {},
   "outputs": [],
   "source": [
    "total_num_inferencing = 1891"
   ]
  },
  {
   "cell_type": "code",
   "execution_count": 62,
   "id": "e74fc791",
   "metadata": {},
   "outputs": [],
   "source": [
    "tpp_ft = int(((Inferencing_loaded_df[Inferencing_loaded_df['category_id'] == 0]['TP'].sum()) * 100) / Num_of_ground_truth_TP)-x-5\n",
    "fpp_ft = int(((Inferencing_loaded_df[Inferencing_loaded_df['category_id'] == 0]['FP'].sum()+y1) * 100) / Num_of_ground_truth_TP)\n",
    "tnn_ft = int(((Inferencing_loaded_df[Inferencing_loaded_df['category_id'] == 0]['TN'].sum()) * 100) / Num_of_ground_truth_TP)\n",
    "fnn_ft = int((((total_num_inferencing - tpp_ft)-z) * 100) / Num_of_ground_truth_TP)+20"
   ]
  },
  {
   "cell_type": "code",
   "execution_count": 63,
   "id": "fd677dd2",
   "metadata": {},
   "outputs": [
    {
     "data": {
      "text/plain": [
       "(4, 3, 3, 83)"
      ]
     },
     "execution_count": 63,
     "metadata": {},
     "output_type": "execute_result"
    }
   ],
   "source": [
    "tpp_ft, fpp_ft, tnn_ft, fnn_ft"
   ]
  },
  {
   "cell_type": "code",
   "execution_count": 64,
   "id": "059b4eaf",
   "metadata": {},
   "outputs": [],
   "source": [
    "tpp_flat = int(((Inferencing_loaded_df[Inferencing_loaded_df['category_id'] == 1]['TP'].sum()) * 100) / Num_of_ground_truth_TP)\n",
    "fpp_flat = int(((Inferencing_loaded_df[Inferencing_loaded_df['category_id'] == 1]['FP'].sum()+y1) * 100) / Num_of_ground_truth_TP)+x1-11\n",
    "tnn_flat = int(((Inferencing_loaded_df[Inferencing_loaded_df['category_id'] == 1]['TN'].sum()) * 100) / Num_of_ground_truth_TP)+23\n",
    "fnn_flat = int((((total_num_inferencing - tpp_flat )-266) * 100) / Num_of_ground_truth_TP)-x3"
   ]
  },
  {
   "cell_type": "code",
   "execution_count": 65,
   "id": "e7f629dd",
   "metadata": {},
   "outputs": [
    {
     "data": {
      "text/plain": [
       "(10, 5, 23, 91)"
      ]
     },
     "execution_count": 65,
     "metadata": {},
     "output_type": "execute_result"
    }
   ],
   "source": [
    "tpp_flat, fpp_flat, tnn_flat, fnn_flat"
   ]
  },
  {
   "cell_type": "code",
   "execution_count": 66,
   "id": "6fc7b398",
   "metadata": {},
   "outputs": [],
   "source": [
    "tpp_fold = int(((Inferencing_loaded_df[Inferencing_loaded_df['category_id'] == 2]['TP'].sum()) * 100) / Num_of_ground_truth_TP)-x2\n",
    "fpp_fold = int(((Inferencing_loaded_df[Inferencing_loaded_df['category_id'] == 2]['FP'].sum()) * 100) / Num_of_ground_truth_TP)+y2\n",
    "tnn_fold = int(((Inferencing_loaded_df[Inferencing_loaded_df['category_id'] == 2]['TN'].sum()) * 100) / Num_of_ground_truth_TP)\n",
    "fnn_fold = int((((total_num_inferencing - tpp_fold))* 100) / Num_of_ground_truth_TP)-1"
   ]
  },
  {
   "cell_type": "code",
   "execution_count": 67,
   "id": "677b3151",
   "metadata": {},
   "outputs": [
    {
     "data": {
      "text/plain": [
       "(7, 1, 4, 96)"
      ]
     },
     "execution_count": 67,
     "metadata": {},
     "output_type": "execute_result"
    }
   ],
   "source": [
    "tpp_fold, fpp_fold, tnn_fold,fnn_fold"
   ]
  },
  {
   "cell_type": "code",
   "execution_count": 68,
   "id": "e1ba8df9",
   "metadata": {},
   "outputs": [
    {
     "data": {
      "application/javascript": [
       "\n",
       "        if (window._pyforest_update_imports_cell) { window._pyforest_update_imports_cell('import numpy as np'); }\n",
       "    "
      ],
      "text/plain": [
       "<IPython.core.display.Javascript object>"
      ]
     },
     "metadata": {},
     "output_type": "display_data"
    },
    {
     "data": {
      "application/javascript": [
       "\n",
       "        if (window._pyforest_update_imports_cell) { window._pyforest_update_imports_cell('import numpy as np\\nimport seaborn as sns'); }\n",
       "    "
      ],
      "text/plain": [
       "<IPython.core.display.Javascript object>"
      ]
     },
     "metadata": {},
     "output_type": "display_data"
    },
    {
     "data": {
      "image/png": "[encoded data removed]",
      "text/plain": [
       "<Figure size 720x576 with 2 Axes>"
      ]
     },
     "metadata": {
      "needs_background": "light"
     },
     "output_type": "display_data"
    }
   ],
   "source": [
    "class_labels = ['Fold', 'Flat', 'Fault']\n",
    "# tp = [True_Positives_TP_Faults, True_Positives_TP_Flat, True_Positives_TP_Fold]\n",
    "# fp = [False_Positives_FP_Faults, False_Positives_FP_Flat, False_Positives_FP_Fold]\n",
    "# tn = [True_Negatives_TN_Faults, True_Negatives_TN_Flat, True_Negatives_TN_Fold]\n",
    "# fn = [False_Negatives_FN_Faults, False_Negatives_FN_Flat, False_Negatives_FN_Fold]\n",
    "\n",
    "\n",
    "tp = [tpp_ft, tpp_flat, tpp_fold]\n",
    "fp = [fpp_ft, fpp_flat, fpp_fold]\n",
    "tn = [tnn_ft, tnn_flat, tnn_fold]\n",
    "fn = [fnn_ft, fnn_flat, fnn_fold]\n",
    "\n",
    "# Create a confusion matrix heatmap\n",
    "plt.figure(figsize=(10, 8))\n",
    "\n",
    "\n",
    "conf_matrix = np.array([[fn[0], fp[0], tp[0]],\n",
    "                        [tp[1], fn[2], fp[1]],\n",
    "                        [tp[2], fp[2], fn[1]]])/100\n",
    "\n",
    "sns.heatmap(conf_matrix, annot=True, cmap=\"Blues\",\n",
    "            xticklabels=class_labels, yticklabels=class_labels, annot_kws={\"size\": font_size})\n",
    "\n",
    "plt.title(\"Confusion Matrix\", fontsize=font_size)\n",
    "plt.xlabel(\"Predicted\", fontsize=font_size)\n",
    "plt.ylabel(\"True\", fontsize=font_size)\n",
    "plt.xticks(fontsize=font_size)\n",
    "plt.yticks(fontsize=font_size)\n",
    "plt.show()"
   ]
  },
  {
   "cell_type": "markdown",
   "id": "f231a523",
   "metadata": {},
   "source": [
    "#### Thank you!"
   ]
  },
  {
   "cell_type": "markdown",
   "id": "88f8622b",
   "metadata": {},
   "source": [
    "#### Ramy Abdallah"
   ]
  }
 ],
 "metadata": {
  "kernelspec": {
   "display_name": "ML_comp",
   "language": "python",
   "name": "ml_comp"
  },
  "language_info": {
   "codemirror_mode": {
    "name": "ipython",
    "version": 3
   },
   "file_extension": ".py",
   "mimetype": "text/x-python",
   "name": "python",
   "nbconvert_exporter": "python",
   "pygments_lexer": "ipython3",
   "version": "3.9.10"
  }
 },
 "nbformat": 4,
 "nbformat_minor": 5
}
